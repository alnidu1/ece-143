{
 "cells": [
  {
   "cell_type": "code",
   "execution_count": 91,
   "id": "7877b353",
   "metadata": {},
   "outputs": [],
   "source": [
    "import pandas as pd\n",
    "import matplotlib.pyplot as plt\n",
    "import plotly.express as px\n",
    "import pycountry\n",
    "\n",
    "\n",
    "def IoY(data1):\n",
    "    dict1={}\n",
    "    for i in data1['Year']:\n",
    "        try:\n",
    "            dict1[i]=dict1[i]+1\n",
    "        except:\n",
    "            dict1[i]=1\n",
    "    lists=sorted(dict1.items())\n",
    "    x,y= zip(*lists)\n",
    "    fig= plt.figure()\n",
    "    plt.title('Incidents per Year')\n",
    "    plt.xlabel('Years')\n",
    "    plt.ylabel('Disasters')\n",
    "    plt.plot(x,y)\n",
    "    plt.show()\n",
    "    \n",
    "def DisaGeo(data1):\n",
    "    dict1={}\n",
    "    for i in range(len(data1['Country'])):\n",
    "        if '(the)' in data1['Country'][i]:\n",
    "            data1['Country'][i]=data1['Country'][i].replace(' (the)','')\n",
    "    \n",
    "    #mask= data1['Disaster Type']=='Earthquake'\n",
    "    #data1=data1[mask]   \n",
    "    \n",
    "    for i in data1['Country']:\n",
    "        try:\n",
    "            dict1[i]=dict1[i]+1\n",
    "        except:\n",
    "            dict1[i]=1\n",
    "    lists=sorted(dict1.items())\n",
    "    x,y= zip(*lists)\n",
    "    \n",
    "    \n",
    "    \n",
    "    \n",
    "    \n",
    "    countries = {}\n",
    "    \n",
    "    for country in pycountry.countries:\n",
    "        countries[country.name] = country.alpha_3\n",
    "        #codes = [countries.get(country, 'Unknown code') for country in x]\n",
    "        codes = [countries.get(country, country) for country in x]\n",
    "\n",
    "    \n",
    "    \n",
    "    xl=[]\n",
    "    yl=[]\n",
    "    for i in range(len(codes)):\n",
    "        if 'United States of America' in codes[i]:\n",
    "            codes[i]='USA'\n",
    "        if 'Russia' in codes[i]:\n",
    "            codes[i]='RUS'\n",
    "       \n",
    "        if 'Korea' in codes[i]:\n",
    "            codes[i]= 'KOR'\n",
    "        if 'United Kingdom' in codes[i]:\n",
    "            codes[i]='GBR'\n",
    "        if 'United Arab Emirates' in codes[i]:\n",
    "            codes[i]= 'ARE'\n",
    "        if 'Taiwan' in codes[i]:\n",
    "            codes[i]='TWN'\n",
    "        if 'Yemen' in codes[i]:\n",
    "            codes[i]='YEM'\n",
    "        if 'Congo' in codes[i]:\n",
    "            codes[i]= 'COD'\n",
    "        if 'Lao People' in codes[i]:\n",
    "            codes[i]='LAO'   \n",
    "        if 'Iran' in codes[i]:\n",
    "            codes[i]='IRN'\n",
    "        if 'Venezuela' in codes[i]:\n",
    "            codes[i]='VEN'\n",
    "        if 'Bolivia' in codes[i]:\n",
    "            codes[i]= 'BOL'\n",
    "        if 'Sudan' in codes[i]:\n",
    "            codes[i]= 'SDN'\n",
    "        if 'Côte d’Ivoire' in codes[i]:\n",
    "            codes[i]='CIV'\n",
    "        xl.append(codes[i])\n",
    "        yl.append(y[i])\n",
    "    #print(xl)\n",
    "    \n",
    "    fig = px.choropleth(locations=xl, color=yl, scope=\"world\",title='Disasters heatmap from 1970 to 202?' )\n",
    "    fig.show()\n",
    "    \n",
    "def _2011(data):\n",
    "    #print(data['Year'].loc[11923:])\n",
    "    data=data.loc[11923:]\n",
    "    #print(data['Year'].loc[:16006])\n",
    "    data=data.loc[:16006]\n",
    "    data['Total Deaths'] = data['Total Deaths'].fillna(0)\n",
    "    mask= data['Year']==2011\n",
    "    y2011=data[mask]\n",
    "\n",
    "    return y2011\n",
    "def _2012(data):\n",
    "    data=data.loc[11923:]\n",
    "    data=data.loc[:16006]\n",
    "    data['Total Deaths'] = data['Total Deaths'].fillna(0)\n",
    "    mask= data['Year']==2012\n",
    "    y2012=data[mask]\n",
    "\n",
    "    return y2012\n",
    "\n",
    "def _2013(data):\n",
    "    data=data.loc[11923:]\n",
    "    data=data.loc[:16006]\n",
    "    data['Total Deaths'] = data['Total Deaths'].fillna(0)\n",
    "    mask= data['Year']==2013\n",
    "    y2013=data[mask]\n",
    "\n",
    "    return y2013\n",
    "\n",
    "def _2014(data):\n",
    "    data=data.loc[11923:]\n",
    "    data=data.loc[:16006]\n",
    "    data['Total Deaths'] = data['Total Deaths'].fillna(0)\n",
    "    mask= data['Year']==2014\n",
    "    y2014=data[mask]\n",
    "\n",
    "    return y2014\n",
    "\n",
    "def _2015(data):\n",
    "    data=data.loc[11923:]\n",
    "    data=data.loc[:16006]\n",
    "    data['Total Deaths'] = data['Total Deaths'].fillna(0)\n",
    "    mask= data['Year']==2015\n",
    "    y2015=data[mask]\n",
    "\n",
    "    return y2015\n",
    "\n",
    "def disaster(data):\n",
    "    a={}\n",
    "    b={}\n",
    "    c={}\n",
    "    #print(data.columns)\n",
    "    #print(data['Start Month'], data['Disaster Group'])\n",
    "    temp=0\n",
    "    for j, i in data.iterrows():\n",
    "        if temp<0:\n",
    "            print(i)\n",
    "            temp+=1\n",
    "        try:\n",
    "            a[i['Disaster Type']].append(i['Start Month'])\n",
    "        except:\n",
    "            a[i['Disaster Type']]=[i['Start Month']]\n",
    "        #print(a)\n",
    "    return a\n",
    "\n",
    "def flood(d):\n",
    "    x={}\n",
    "    for i in d['Flood']:\n",
    "        try:\n",
    "            x[i]=x[i]+1\n",
    "        except:\n",
    "            x[i]=1\n",
    "            \n",
    "    lists=sorted(x.items())\n",
    "    a,b= zip(*lists)\n",
    "    \n",
    "    return a,b\n",
    "    \n",
    "\n",
    "def convert_month(month):\n",
    "    l=[]\n",
    "    for i in month:\n",
    "        if i==1:\n",
    "            l.append('Jan')\n",
    "        elif i==2:\n",
    "            l.append('Feb')\n",
    "        elif i==3:\n",
    "            l.append('Mar')\n",
    "        elif i==4:\n",
    "            l.append('Apr')\n",
    "        elif i==5:\n",
    "            l.append('May')\n",
    "        elif i==6:\n",
    "            l.append('Jun')\n",
    "        elif i==7:\n",
    "            l.append('Jul')\n",
    "        elif i==8:\n",
    "            l.append('Aug')\n",
    "        elif i==9:\n",
    "            l.append('Sep')\n",
    "        elif i==10:\n",
    "            l.append('Oct')\n",
    "        elif i==11:\n",
    "            l.append('Nov')\n",
    "        elif i==12:\n",
    "            l.append('Dec')\n",
    "        else:\n",
    "            l.append(i)\n",
    "    return l\n",
    "\n"
   ]
  },
  {
   "cell_type": "code",
   "execution_count": 92,
   "id": "85a5f76f",
   "metadata": {},
   "outputs": [
    {
     "data": {
      "image/png": "[encoded data removed]",
      "text/plain": [
       "<Figure size 432x288 with 1 Axes>"
      ]
     },
     "metadata": {
      "needs_background": "light"
     },
     "output_type": "display_data"
    },
    {
     "name": "stderr",
     "output_type": "stream",
     "text": [
      "<ipython-input-91-b886678a02d3>:27: SettingWithCopyWarning:\n",
      "\n",
      "\n",
      "A value is trying to be set on a copy of a slice from a DataFrame\n",
      "\n",
      "See the caveats in the documentation: https://pandas.pydata.org/pandas-docs/stable/user_guide/indexing.html#returning-a-view-versus-a-copy\n",
      "\n"
     ]
    },
    {
     "data": {
      "application/vnd.plotly.v1+json": {
       "config": {
        "plotlyServerURL": "https://plot.ly"
       },
       "data": [
        {
         "coloraxis": "coloraxis",
         "geo": "geo",
         "hovertemplate": "locations=%{location}<br>color=%{z}<extra></extra>",
         "locations": [
          "AFG",
          "ALB",
          "DZA",
          "ASM",
          "AGO",
          "AIA",
          "ATG",
          "ARG",
          "ARM",
          "AUS",
          "AUT",
          "AZE",
          "Azores Islands",
          "BHS",
          "BHR",
          "BGD",
          "BRB",
          "BLR",
          "BEL",
          "BLZ",
          "BEN",
          "BMU",
          "BTN",
          "BOL",
          "BIH",
          "BWA",
          "BRA",
          "BRN",
          "BGR",
          "BFA",
          "BDI",
          "CPV",
          "KHM",
          "CMR",
          "CAN",
          "Canary Is",
          "CYM",
          "CAF",
          "TCD",
          "CHL",
          "CHN",
          "COL",
          "COM",
          "COG",
          "COD",
          "COK",
          "CRI",
          "HRV",
          "CUB",
          "CYP",
          "Czech Republic",
          "Czechoslovakia",
          "CIV",
          "DNK",
          "DJI",
          "DMA",
          "DOM",
          "ECU",
          "EGY",
          "SLV",
          "GNQ",
          "ERI",
          "EST",
          "ETH",
          "FJI",
          "FIN",
          "FRA",
          "GUF",
          "PYF",
          "GAB",
          "GMB",
          "GEO",
          "DEU",
          "Germany Dem Rep",
          "Germany Fed Rep",
          "GHA",
          "GRC",
          "GRD",
          "GLP",
          "GUM",
          "GTM",
          "GIN",
          "GNB",
          "GUY",
          "HTI",
          "HND",
          "HKG",
          "HUN",
          "ISL",
          "IND",
          "IDN",
          "IRN",
          "IRQ",
          "IRL",
          "IMN",
          "ISR",
          "ITA",
          "JAM",
          "JPN",
          "JOR",
          "KAZ",
          "KEN",
          "KIR",
          "KOR",
          "KOR",
          "KWT",
          "KGZ",
          "LAO",
          "LVA",
          "LBN",
          "LSO",
          "LBR",
          "LBY",
          "LTU",
          "LUX",
          "MAC",
          "Macedonia (the former Yugoslav Republic of)",
          "MDG",
          "MWI",
          "MYS",
          "MDV",
          "MLI",
          "MHL",
          "MTQ",
          "MRT",
          "MUS",
          "MEX",
          "Micronesia (Federated States of)",
          "Moldova (the Republic of)",
          "MNG",
          "MNE",
          "MSR",
          "MAR",
          "MOZ",
          "MMR",
          "NAM",
          "NPL",
          "NLD",
          "Netherlands Antilles",
          "NCL",
          "NZL",
          "NIC",
          "NER",
          "NGA",
          "NIU",
          "MNP",
          "NOR",
          "OMN",
          "PAK",
          "PLW",
          "PSE",
          "PAN",
          "PNG",
          "PRY",
          "PER",
          "PHL",
          "POL",
          "PRT",
          "PRI",
          "QAT",
          "ROU",
          "RUS",
          "RWA",
          "REU",
          "BLM",
          "SHN",
          "KNA",
          "LCA",
          "Saint Martin (French Part)",
          "VCT",
          "WSM",
          "STP",
          "SAU",
          "SEN",
          "SRB",
          "Serbia Montenegro",
          "SYC",
          "SLE",
          "SGP",
          "SXM",
          "SVK",
          "SVN",
          "SLB",
          "SOM",
          "ZAF",
          "SSD",
          "Soviet Union",
          "ESP",
          "LKA",
          "SDN",
          "SUR",
          "Swaziland",
          "SWE",
          "CHE",
          "SYR",
          "TWN",
          "TJK",
          "TZA",
          "THA",
          "TLS",
          "TGO",
          "TKL",
          "TON",
          "TTO",
          "TUN",
          "TUR",
          "TKM",
          "TCA",
          "TUV",
          "UGA",
          "UKR",
          "ARE",
          "GBR",
          "USA",
          "URY",
          "UZB",
          "VUT",
          "VEN",
          "VNM",
          "Virgin Island (British)",
          "Virgin Island (U.S.)",
          "WLF",
          "YEM",
          "YEM",
          "YEM",
          "Yugoslavia",
          "ZMB",
          "ZWE"
         ],
         "name": "",
         "type": "choropleth",
         "z": [
          200,
          36,
          77,
          5,
          74,
          6,
          10,
          119,
          11,
          240,
          50,
          15,
          4,
          20,
          1,
          317,
          12,
          14,
          61,
          19,
          51,
          5,
          12,
          96,
          26,
          21,
          227,
          1,
          48,
          59,
          62,
          15,
          42,
          54,
          121,
          7,
          7,
          44,
          60,
          97,
          906,
          188,
          23,
          33,
          138,
          10,
          68,
          30,
          76,
          13,
          29,
          9,
          30,
          16,
          26,
          13,
          76,
          95,
          31,
          66,
          1,
          8,
          4,
          116,
          56,
          3,
          173,
          3,
          7,
          13,
          30,
          25,
          82,
          3,
          13,
          52,
          85,
          6,
          13,
          9,
          115,
          38,
          22,
          12,
          117,
          85,
          108,
          34,
          13,
          658,
          528,
          205,
          23,
          25,
          1,
          19,
          147,
          37,
          272,
          14,
          25,
          119,
          6,
          47,
          107,
          3,
          31,
          51,
          9,
          12,
          24,
          24,
          3,
          14,
          13,
          7,
          24,
          88,
          70,
          93,
          8,
          57,
          7,
          14,
          43,
          21,
          262,
          11,
          16,
          37,
          6,
          7,
          50,
          115,
          69,
          32,
          123,
          39,
          2,
          11,
          72,
          77,
          92,
          136,
          3,
          5,
          12,
          16,
          213,
          5,
          9,
          59,
          84,
          56,
          178,
          612,
          58,
          46,
          33,
          1,
          92,
          173,
          52,
          13,
          1,
          1,
          8,
          18,
          1,
          21,
          13,
          4,
          28,
          48,
          27,
          16,
          7,
          32,
          4,
          1,
          23,
          10,
          34,
          97,
          105,
          25,
          47,
          98,
          113,
          99,
          3,
          18,
          16,
          58,
          15,
          94,
          74,
          110,
          155,
          13,
          28,
          3,
          22,
          12,
          20,
          141,
          2,
          7,
          9,
          100,
          39,
          1,
          94,
          949,
          33,
          9,
          47,
          56,
          241,
          4,
          8,
          3,
          55,
          7,
          7,
          15,
          50,
          51
         ]
        }
       ],
       "layout": {
        "coloraxis": {
         "colorbar": {
          "title": {
           "text": "color"
          }
         },
         "colorscale": [
          [
           0,
           "#0d0887"
          ],
          [
           0.1111111111111111,
           "#46039f"
          ],
          [
           0.2222222222222222,
           "#7201a8"
          ],
          [
           0.3333333333333333,
           "#9c179e"
          ],
          [
           0.4444444444444444,
           "#bd3786"
          ],
          [
           0.5555555555555556,
           "#d8576b"
          ],
          [
           0.6666666666666666,
           "#ed7953"
          ],
          [
           0.7777777777777778,
           "#fb9f3a"
          ],
          [
           0.8888888888888888,
           "#fdca26"
          ],
          [
           1,
           "#f0f921"
          ]
         ]
        },
        "geo": {
         "center": {},
         "domain": {
          "x": [
           0,
           1
          ],
          "y": [
           0,
           1
          ]
         },
         "scope": "world"
        },
        "legend": {
         "tracegroupgap": 0
        },
        "template": {
         "data": {
          "bar": [
           {
            "error_x": {
             "color": "#2a3f5f"
            },
            "error_y": {
             "color": "#2a3f5f"
            },
            "marker": {
             "line": {
              "color": "#E5ECF6",
              "width": 0.5
             },
             "pattern": {
              "fillmode": "overlay",
              "size": 10,
              "solidity": 0.2
             }
            },
            "type": "bar"
           }
          ],
          "barpolar": [
           {
            "marker": {
             "line": {
              "color": "#E5ECF6",
              "width": 0.5
             },
             "pattern": {
              "fillmode": "overlay",
              "size": 10,
              "solidity": 0.2
             }
            },
            "type": "barpolar"
           }
          ],
          "carpet": [
           {
            "aaxis": {
             "endlinecolor": "#2a3f5f",
             "gridcolor": "white",
             "linecolor": "white",
             "minorgridcolor": "white",
             "startlinecolor": "#2a3f5f"
            },
            "baxis": {
             "endlinecolor": "#2a3f5f",
             "gridcolor": "white",
             "linecolor": "white",
             "minorgridcolor": "white",
             "startlinecolor": "#2a3f5f"
            },
            "type": "carpet"
           }
          ],
          "choropleth": [
           {
            "colorbar": {
             "outlinewidth": 0,
             "ticks": ""
            },
            "type": "choropleth"
           }
          ],
          "contour": [
           {
            "colorbar": {
             "outlinewidth": 0,
             "ticks": ""
            },
            "colorscale": [
             [
              0,
              "#0d0887"
             ],
             [
              0.1111111111111111,
              "#46039f"
             ],
             [
              0.2222222222222222,
              "#7201a8"
             ],
             [
              0.3333333333333333,
              "#9c179e"
             ],
             [
              0.4444444444444444,
              "#bd3786"
             ],
             [
              0.5555555555555556,
              "#d8576b"
             ],
             [
              0.6666666666666666,
              "#ed7953"
             ],
             [
              0.7777777777777778,
              "#fb9f3a"
             ],
             [
              0.8888888888888888,
              "#fdca26"
             ],
             [
              1,
              "#f0f921"
             ]
            ],
            "type": "contour"
           }
          ],
          "contourcarpet": [
           {
            "colorbar": {
             "outlinewidth": 0,
             "ticks": ""
            },
            "type": "contourcarpet"
           }
          ],
          "heatmap": [
           {
            "colorbar": {
             "outlinewidth": 0,
             "ticks": ""
            },
            "colorscale": [
             [
              0,
              "#0d0887"
             ],
             [
              0.1111111111111111,
              "#46039f"
             ],
             [
              0.2222222222222222,
              "#7201a8"
             ],
             [
              0.3333333333333333,
              "#9c179e"
             ],
             [
              0.4444444444444444,
              "#bd3786"
             ],
             [
              0.5555555555555556,
              "#d8576b"
             ],
             [
              0.6666666666666666,
              "#ed7953"
             ],
             [
              0.7777777777777778,
              "#fb9f3a"
             ],
             [
              0.8888888888888888,
              "#fdca26"
             ],
             [
              1,
              "#f0f921"
             ]
            ],
            "type": "heatmap"
           }
          ],
          "heatmapgl": [
           {
            "colorbar": {
             "outlinewidth": 0,
             "ticks": ""
            },
            "colorscale": [
             [
              0,
              "#0d0887"
             ],
             [
              0.1111111111111111,
              "#46039f"
             ],
             [
              0.2222222222222222,
              "#7201a8"
             ],
             [
              0.3333333333333333,
              "#9c179e"
             ],
             [
              0.4444444444444444,
              "#bd3786"
             ],
             [
              0.5555555555555556,
              "#d8576b"
             ],
             [
              0.6666666666666666,
              "#ed7953"
             ],
             [
              0.7777777777777778,
              "#fb9f3a"
             ],
             [
              0.8888888888888888,
              "#fdca26"
             ],
             [
              1,
              "#f0f921"
             ]
            ],
            "type": "heatmapgl"
           }
          ],
          "histogram": [
           {
            "marker": {
             "pattern": {
              "fillmode": "overlay",
              "size": 10,
              "solidity": 0.2
             }
            },
            "type": "histogram"
           }
          ],
          "histogram2d": [
           {
            "colorbar": {
             "outlinewidth": 0,
             "ticks": ""
            },
            "colorscale": [
             [
              0,
              "#0d0887"
             ],
             [
              0.1111111111111111,
              "#46039f"
             ],
             [
              0.2222222222222222,
              "#7201a8"
             ],
             [
              0.3333333333333333,
              "#9c179e"
             ],
             [
              0.4444444444444444,
              "#bd3786"
             ],
             [
              0.5555555555555556,
              "#d8576b"
             ],
             [
              0.6666666666666666,
              "#ed7953"
             ],
             [
              0.7777777777777778,
              "#fb9f3a"
             ],
             [
              0.8888888888888888,
              "#fdca26"
             ],
             [
              1,
              "#f0f921"
             ]
            ],
            "type": "histogram2d"
           }
          ],
          "histogram2dcontour": [
           {
            "colorbar": {
             "outlinewidth": 0,
             "ticks": ""
            },
            "colorscale": [
             [
              0,
              "#0d0887"
             ],
             [
              0.1111111111111111,
              "#46039f"
             ],
             [
              0.2222222222222222,
              "#7201a8"
             ],
             [
              0.3333333333333333,
              "#9c179e"
             ],
             [
              0.4444444444444444,
              "#bd3786"
             ],
             [
              0.5555555555555556,
              "#d8576b"
             ],
             [
              0.6666666666666666,
              "#ed7953"
             ],
             [
              0.7777777777777778,
              "#fb9f3a"
             ],
             [
              0.8888888888888888,
              "#fdca26"
             ],
             [
              1,
              "#f0f921"
             ]
            ],
            "type": "histogram2dcontour"
           }
          ],
          "mesh3d": [
           {
            "colorbar": {
             "outlinewidth": 0,
             "ticks": ""
            },
            "type": "mesh3d"
           }
          ],
          "parcoords": [
           {
            "line": {
             "colorbar": {
              "outlinewidth": 0,
              "ticks": ""
             }
            },
            "type": "parcoords"
           }
          ],
          "pie": [
           {
            "automargin": true,
            "type": "pie"
           }
          ],
          "scatter": [
           {
            "marker": {
             "colorbar": {
              "outlinewidth": 0,
              "ticks": ""
             }
            },
            "type": "scatter"
           }
          ],
          "scatter3d": [
           {
            "line": {
             "colorbar": {
              "outlinewidth": 0,
              "ticks": ""
             }
            },
            "marker": {
             "colorbar": {
              "outlinewidth": 0,
              "ticks": ""
             }
            },
            "type": "scatter3d"
           }
          ],
          "scattercarpet": [
           {
            "marker": {
             "colorbar": {
              "outlinewidth": 0,
              "ticks": ""
             }
            },
            "type": "scattercarpet"
           }
          ],
          "scattergeo": [
           {
            "marker": {
             "colorbar": {
              "outlinewidth": 0,
              "ticks": ""
             }
            },
            "type": "scattergeo"
           }
          ],
          "scattergl": [
           {
            "marker": {
             "colorbar": {
              "outlinewidth": 0,
              "ticks": ""
             }
            },
            "type": "scattergl"
           }
          ],
          "scattermapbox": [
           {
            "marker": {
             "colorbar": {
              "outlinewidth": 0,
              "ticks": ""
             }
            },
            "type": "scattermapbox"
           }
          ],
          "scatterpolar": [
           {
            "marker": {
             "colorbar": {
              "outlinewidth": 0,
              "ticks": ""
             }
            },
            "type": "scatterpolar"
           }
          ],
          "scatterpolargl": [
           {
            "marker": {
             "colorbar": {
              "outlinewidth": 0,
              "ticks": ""
             }
            },
            "type": "scatterpolargl"
           }
          ],
          "scatterternary": [
           {
            "marker": {
             "colorbar": {
              "outlinewidth": 0,
              "ticks": ""
             }
            },
            "type": "scatterternary"
           }
          ],
          "surface": [
           {
            "colorbar": {
             "outlinewidth": 0,
             "ticks": ""
            },
            "colorscale": [
             [
              0,
              "#0d0887"
             ],
             [
              0.1111111111111111,
              "#46039f"
             ],
             [
              0.2222222222222222,
              "#7201a8"
             ],
             [
              0.3333333333333333,
              "#9c179e"
             ],
             [
              0.4444444444444444,
              "#bd3786"
             ],
             [
              0.5555555555555556,
              "#d8576b"
             ],
             [
              0.6666666666666666,
              "#ed7953"
             ],
             [
              0.7777777777777778,
              "#fb9f3a"
             ],
             [
              0.8888888888888888,
              "#fdca26"
             ],
             [
              1,
              "#f0f921"
             ]
            ],
            "type": "surface"
           }
          ],
          "table": [
           {
            "cells": {
             "fill": {
              "color": "#EBF0F8"
             },
             "line": {
              "color": "white"
             }
            },
            "header": {
             "fill": {
              "color": "#C8D4E3"
             },
             "line": {
              "color": "white"
             }
            },
            "type": "table"
           }
          ]
         },
         "layout": {
          "annotationdefaults": {
           "arrowcolor": "#2a3f5f",
           "arrowhead": 0,
           "arrowwidth": 1
          },
          "autotypenumbers": "strict",
          "coloraxis": {
           "colorbar": {
            "outlinewidth": 0,
            "ticks": ""
           }
          },
          "colorscale": {
           "diverging": [
            [
             0,
             "#8e0152"
            ],
            [
             0.1,
             "#c51b7d"
            ],
            [
             0.2,
             "#de77ae"
            ],
            [
             0.3,
             "#f1b6da"
            ],
            [
             0.4,
             "#fde0ef"
            ],
            [
             0.5,
             "#f7f7f7"
            ],
            [
             0.6,
             "#e6f5d0"
            ],
            [
             0.7,
             "#b8e186"
            ],
            [
             0.8,
             "#7fbc41"
            ],
            [
             0.9,
             "#4d9221"
            ],
            [
             1,
             "#276419"
            ]
           ],
           "sequential": [
            [
             0,
             "#0d0887"
            ],
            [
             0.1111111111111111,
             "#46039f"
            ],
            [
             0.2222222222222222,
             "#7201a8"
            ],
            [
             0.3333333333333333,
             "#9c179e"
            ],
            [
             0.4444444444444444,
             "#bd3786"
            ],
            [
             0.5555555555555556,
             "#d8576b"
            ],
            [
             0.6666666666666666,
             "#ed7953"
            ],
            [
             0.7777777777777778,
             "#fb9f3a"
            ],
            [
             0.8888888888888888,
             "#fdca26"
            ],
            [
             1,
             "#f0f921"
            ]
           ],
           "sequentialminus": [
            [
             0,
             "#0d0887"
            ],
            [
             0.1111111111111111,
             "#46039f"
            ],
            [
             0.2222222222222222,
             "#7201a8"
            ],
            [
             0.3333333333333333,
             "#9c179e"
            ],
            [
             0.4444444444444444,
             "#bd3786"
            ],
            [
             0.5555555555555556,
             "#d8576b"
            ],
            [
             0.6666666666666666,
             "#ed7953"
            ],
            [
             0.7777777777777778,
             "#fb9f3a"
            ],
            [
             0.8888888888888888,
             "#fdca26"
            ],
            [
             1,
             "#f0f921"
            ]
           ]
          },
          "colorway": [
           "#636efa",
           "#EF553B",
           "#00cc96",
           "#ab63fa",
           "#FFA15A",
           "#19d3f3",
           "#FF6692",
           "#B6E880",
           "#FF97FF",
           "#FECB52"
          ],
          "font": {
           "color": "#2a3f5f"
          },
          "geo": {
           "bgcolor": "white",
           "lakecolor": "white",
           "landcolor": "#E5ECF6",
           "showlakes": true,
           "showland": true,
           "subunitcolor": "white"
          },
          "hoverlabel": {
           "align": "left"
          },
          "hovermode": "closest",
          "mapbox": {
           "style": "light"
          },
          "paper_bgcolor": "white",
          "plot_bgcolor": "#E5ECF6",
          "polar": {
           "angularaxis": {
            "gridcolor": "white",
            "linecolor": "white",
            "ticks": ""
           },
           "bgcolor": "#E5ECF6",
           "radialaxis": {
            "gridcolor": "white",
            "linecolor": "white",
            "ticks": ""
           }
          },
          "scene": {
           "xaxis": {
            "backgroundcolor": "#E5ECF6",
            "gridcolor": "white",
            "gridwidth": 2,
            "linecolor": "white",
            "showbackground": true,
            "ticks": "",
            "zerolinecolor": "white"
           },
           "yaxis": {
            "backgroundcolor": "#E5ECF6",
            "gridcolor": "white",
            "gridwidth": 2,
            "linecolor": "white",
            "showbackground": true,
            "ticks": "",
            "zerolinecolor": "white"
           },
           "zaxis": {
            "backgroundcolor": "#E5ECF6",
            "gridcolor": "white",
            "gridwidth": 2,
            "linecolor": "white",
            "showbackground": true,
            "ticks": "",
            "zerolinecolor": "white"
           }
          },
          "shapedefaults": {
           "line": {
            "color": "#2a3f5f"
           }
          },
          "ternary": {
           "aaxis": {
            "gridcolor": "white",
            "linecolor": "white",
            "ticks": ""
           },
           "baxis": {
            "gridcolor": "white",
            "linecolor": "white",
            "ticks": ""
           },
           "bgcolor": "#E5ECF6",
           "caxis": {
            "gridcolor": "white",
            "linecolor": "white",
            "ticks": ""
           }
          },
          "title": {
           "x": 0.05
          },
          "xaxis": {
           "automargin": true,
           "gridcolor": "white",
           "linecolor": "white",
           "ticks": "",
           "title": {
            "standoff": 15
           },
           "zerolinecolor": "white",
           "zerolinewidth": 2
          },
          "yaxis": {
           "automargin": true,
           "gridcolor": "white",
           "linecolor": "white",
           "ticks": "",
           "title": {
            "standoff": 15
           },
           "zerolinecolor": "white",
           "zerolinewidth": 2
          }
         }
        },
        "title": {
         "text": "Disasters heatmap from 1970 to 202?"
        }
       }
      },
      "text/html": [
       "<div>                            <div id=\"aa5b6554-71a8-4ac7-9561-788c3a730987\" class=\"plotly-graph-div\" style=\"height:525px; width:100%;\"></div>            <script type=\"text/javascript\">                require([\"plotly\"], function(Plotly) {                    window.PLOTLYENV=window.PLOTLYENV || {};                                    if (document.getElementById(\"aa5b6554-71a8-4ac7-9561-788c3a730987\")) {                    Plotly.newPlot(                        \"aa5b6554-71a8-4ac7-9561-788c3a730987\",                        [{\"coloraxis\":\"coloraxis\",\"geo\":\"geo\",\"hovertemplate\":\"locations=%{location}<br>color=%{z}<extra></extra>\",\"locations\":[\"AFG\",\"ALB\",\"DZA\",\"ASM\",\"AGO\",\"AIA\",\"ATG\",\"ARG\",\"ARM\",\"AUS\",\"AUT\",\"AZE\",\"Azores Islands\",\"BHS\",\"BHR\",\"BGD\",\"BRB\",\"BLR\",\"BEL\",\"BLZ\",\"BEN\",\"BMU\",\"BTN\",\"BOL\",\"BIH\",\"BWA\",\"BRA\",\"BRN\",\"BGR\",\"BFA\",\"BDI\",\"CPV\",\"KHM\",\"CMR\",\"CAN\",\"Canary Is\",\"CYM\",\"CAF\",\"TCD\",\"CHL\",\"CHN\",\"COL\",\"COM\",\"COG\",\"COD\",\"COK\",\"CRI\",\"HRV\",\"CUB\",\"CYP\",\"Czech Republic\",\"Czechoslovakia\",\"CIV\",\"DNK\",\"DJI\",\"DMA\",\"DOM\",\"ECU\",\"EGY\",\"SLV\",\"GNQ\",\"ERI\",\"EST\",\"ETH\",\"FJI\",\"FIN\",\"FRA\",\"GUF\",\"PYF\",\"GAB\",\"GMB\",\"GEO\",\"DEU\",\"Germany Dem Rep\",\"Germany Fed Rep\",\"GHA\",\"GRC\",\"GRD\",\"GLP\",\"GUM\",\"GTM\",\"GIN\",\"GNB\",\"GUY\",\"HTI\",\"HND\",\"HKG\",\"HUN\",\"ISL\",\"IND\",\"IDN\",\"IRN\",\"IRQ\",\"IRL\",\"IMN\",\"ISR\",\"ITA\",\"JAM\",\"JPN\",\"JOR\",\"KAZ\",\"KEN\",\"KIR\",\"KOR\",\"KOR\",\"KWT\",\"KGZ\",\"LAO\",\"LVA\",\"LBN\",\"LSO\",\"LBR\",\"LBY\",\"LTU\",\"LUX\",\"MAC\",\"Macedonia (the former Yugoslav Republic of)\",\"MDG\",\"MWI\",\"MYS\",\"MDV\",\"MLI\",\"MHL\",\"MTQ\",\"MRT\",\"MUS\",\"MEX\",\"Micronesia (Federated States of)\",\"Moldova (the Republic of)\",\"MNG\",\"MNE\",\"MSR\",\"MAR\",\"MOZ\",\"MMR\",\"NAM\",\"NPL\",\"NLD\",\"Netherlands Antilles\",\"NCL\",\"NZL\",\"NIC\",\"NER\",\"NGA\",\"NIU\",\"MNP\",\"NOR\",\"OMN\",\"PAK\",\"PLW\",\"PSE\",\"PAN\",\"PNG\",\"PRY\",\"PER\",\"PHL\",\"POL\",\"PRT\",\"PRI\",\"QAT\",\"ROU\",\"RUS\",\"RWA\",\"REU\",\"BLM\",\"SHN\",\"KNA\",\"LCA\",\"Saint Martin (French Part)\",\"VCT\",\"WSM\",\"STP\",\"SAU\",\"SEN\",\"SRB\",\"Serbia Montenegro\",\"SYC\",\"SLE\",\"SGP\",\"SXM\",\"SVK\",\"SVN\",\"SLB\",\"SOM\",\"ZAF\",\"SSD\",\"Soviet Union\",\"ESP\",\"LKA\",\"SDN\",\"SUR\",\"Swaziland\",\"SWE\",\"CHE\",\"SYR\",\"TWN\",\"TJK\",\"TZA\",\"THA\",\"TLS\",\"TGO\",\"TKL\",\"TON\",\"TTO\",\"TUN\",\"TUR\",\"TKM\",\"TCA\",\"TUV\",\"UGA\",\"UKR\",\"ARE\",\"GBR\",\"USA\",\"URY\",\"UZB\",\"VUT\",\"VEN\",\"VNM\",\"Virgin Island (British)\",\"Virgin Island (U.S.)\",\"WLF\",\"YEM\",\"YEM\",\"YEM\",\"Yugoslavia\",\"ZMB\",\"ZWE\"],\"name\":\"\",\"type\":\"choropleth\",\"z\":[200,36,77,5,74,6,10,119,11,240,50,15,4,20,1,317,12,14,61,19,51,5,12,96,26,21,227,1,48,59,62,15,42,54,121,7,7,44,60,97,906,188,23,33,138,10,68,30,76,13,29,9,30,16,26,13,76,95,31,66,1,8,4,116,56,3,173,3,7,13,30,25,82,3,13,52,85,6,13,9,115,38,22,12,117,85,108,34,13,658,528,205,23,25,1,19,147,37,272,14,25,119,6,47,107,3,31,51,9,12,24,24,3,14,13,7,24,88,70,93,8,57,7,14,43,21,262,11,16,37,6,7,50,115,69,32,123,39,2,11,72,77,92,136,3,5,12,16,213,5,9,59,84,56,178,612,58,46,33,1,92,173,52,13,1,1,8,18,1,21,13,4,28,48,27,16,7,32,4,1,23,10,34,97,105,25,47,98,113,99,3,18,16,58,15,94,74,110,155,13,28,3,22,12,20,141,2,7,9,100,39,1,94,949,33,9,47,56,241,4,8,3,55,7,7,15,50,51]}],                        {\"coloraxis\":{\"colorbar\":{\"title\":{\"text\":\"color\"}},\"colorscale\":[[0.0,\"#0d0887\"],[0.1111111111111111,\"#46039f\"],[0.2222222222222222,\"#7201a8\"],[0.3333333333333333,\"#9c179e\"],[0.4444444444444444,\"#bd3786\"],[0.5555555555555556,\"#d8576b\"],[0.6666666666666666,\"#ed7953\"],[0.7777777777777778,\"#fb9f3a\"],[0.8888888888888888,\"#fdca26\"],[1.0,\"#f0f921\"]]},\"geo\":{\"center\":{},\"domain\":{\"x\":[0.0,1.0],\"y\":[0.0,1.0]},\"scope\":\"world\"},\"legend\":{\"tracegroupgap\":0},\"template\":{\"data\":{\"bar\":[{\"error_x\":{\"color\":\"#2a3f5f\"},\"error_y\":{\"color\":\"#2a3f5f\"},\"marker\":{\"line\":{\"color\":\"#E5ECF6\",\"width\":0.5},\"pattern\":{\"fillmode\":\"overlay\",\"size\":10,\"solidity\":0.2}},\"type\":\"bar\"}],\"barpolar\":[{\"marker\":{\"line\":{\"color\":\"#E5ECF6\",\"width\":0.5},\"pattern\":{\"fillmode\":\"overlay\",\"size\":10,\"solidity\":0.2}},\"type\":\"barpolar\"}],\"carpet\":[{\"aaxis\":{\"endlinecolor\":\"#2a3f5f\",\"gridcolor\":\"white\",\"linecolor\":\"white\",\"minorgridcolor\":\"white\",\"startlinecolor\":\"#2a3f5f\"},\"baxis\":{\"endlinecolor\":\"#2a3f5f\",\"gridcolor\":\"white\",\"linecolor\":\"white\",\"minorgridcolor\":\"white\",\"startlinecolor\":\"#2a3f5f\"},\"type\":\"carpet\"}],\"choropleth\":[{\"colorbar\":{\"outlinewidth\":0,\"ticks\":\"\"},\"type\":\"choropleth\"}],\"contour\":[{\"colorbar\":{\"outlinewidth\":0,\"ticks\":\"\"},\"colorscale\":[[0.0,\"#0d0887\"],[0.1111111111111111,\"#46039f\"],[0.2222222222222222,\"#7201a8\"],[0.3333333333333333,\"#9c179e\"],[0.4444444444444444,\"#bd3786\"],[0.5555555555555556,\"#d8576b\"],[0.6666666666666666,\"#ed7953\"],[0.7777777777777778,\"#fb9f3a\"],[0.8888888888888888,\"#fdca26\"],[1.0,\"#f0f921\"]],\"type\":\"contour\"}],\"contourcarpet\":[{\"colorbar\":{\"outlinewidth\":0,\"ticks\":\"\"},\"type\":\"contourcarpet\"}],\"heatmap\":[{\"colorbar\":{\"outlinewidth\":0,\"ticks\":\"\"},\"colorscale\":[[0.0,\"#0d0887\"],[0.1111111111111111,\"#46039f\"],[0.2222222222222222,\"#7201a8\"],[0.3333333333333333,\"#9c179e\"],[0.4444444444444444,\"#bd3786\"],[0.5555555555555556,\"#d8576b\"],[0.6666666666666666,\"#ed7953\"],[0.7777777777777778,\"#fb9f3a\"],[0.8888888888888888,\"#fdca26\"],[1.0,\"#f0f921\"]],\"type\":\"heatmap\"}],\"heatmapgl\":[{\"colorbar\":{\"outlinewidth\":0,\"ticks\":\"\"},\"colorscale\":[[0.0,\"#0d0887\"],[0.1111111111111111,\"#46039f\"],[0.2222222222222222,\"#7201a8\"],[0.3333333333333333,\"#9c179e\"],[0.4444444444444444,\"#bd3786\"],[0.5555555555555556,\"#d8576b\"],[0.6666666666666666,\"#ed7953\"],[0.7777777777777778,\"#fb9f3a\"],[0.8888888888888888,\"#fdca26\"],[1.0,\"#f0f921\"]],\"type\":\"heatmapgl\"}],\"histogram\":[{\"marker\":{\"pattern\":{\"fillmode\":\"overlay\",\"size\":10,\"solidity\":0.2}},\"type\":\"histogram\"}],\"histogram2d\":[{\"colorbar\":{\"outlinewidth\":0,\"ticks\":\"\"},\"colorscale\":[[0.0,\"#0d0887\"],[0.1111111111111111,\"#46039f\"],[0.2222222222222222,\"#7201a8\"],[0.3333333333333333,\"#9c179e\"],[0.4444444444444444,\"#bd3786\"],[0.5555555555555556,\"#d8576b\"],[0.6666666666666666,\"#ed7953\"],[0.7777777777777778,\"#fb9f3a\"],[0.8888888888888888,\"#fdca26\"],[1.0,\"#f0f921\"]],\"type\":\"histogram2d\"}],\"histogram2dcontour\":[{\"colorbar\":{\"outlinewidth\":0,\"ticks\":\"\"},\"colorscale\":[[0.0,\"#0d0887\"],[0.1111111111111111,\"#46039f\"],[0.2222222222222222,\"#7201a8\"],[0.3333333333333333,\"#9c179e\"],[0.4444444444444444,\"#bd3786\"],[0.5555555555555556,\"#d8576b\"],[0.6666666666666666,\"#ed7953\"],[0.7777777777777778,\"#fb9f3a\"],[0.8888888888888888,\"#fdca26\"],[1.0,\"#f0f921\"]],\"type\":\"histogram2dcontour\"}],\"mesh3d\":[{\"colorbar\":{\"outlinewidth\":0,\"ticks\":\"\"},\"type\":\"mesh3d\"}],\"parcoords\":[{\"line\":{\"colorbar\":{\"outlinewidth\":0,\"ticks\":\"\"}},\"type\":\"parcoords\"}],\"pie\":[{\"automargin\":true,\"type\":\"pie\"}],\"scatter\":[{\"marker\":{\"colorbar\":{\"outlinewidth\":0,\"ticks\":\"\"}},\"type\":\"scatter\"}],\"scatter3d\":[{\"line\":{\"colorbar\":{\"outlinewidth\":0,\"ticks\":\"\"}},\"marker\":{\"colorbar\":{\"outlinewidth\":0,\"ticks\":\"\"}},\"type\":\"scatter3d\"}],\"scattercarpet\":[{\"marker\":{\"colorbar\":{\"outlinewidth\":0,\"ticks\":\"\"}},\"type\":\"scattercarpet\"}],\"scattergeo\":[{\"marker\":{\"colorbar\":{\"outlinewidth\":0,\"ticks\":\"\"}},\"type\":\"scattergeo\"}],\"scattergl\":[{\"marker\":{\"colorbar\":{\"outlinewidth\":0,\"ticks\":\"\"}},\"type\":\"scattergl\"}],\"scattermapbox\":[{\"marker\":{\"colorbar\":{\"outlinewidth\":0,\"ticks\":\"\"}},\"type\":\"scattermapbox\"}],\"scatterpolar\":[{\"marker\":{\"colorbar\":{\"outlinewidth\":0,\"ticks\":\"\"}},\"type\":\"scatterpolar\"}],\"scatterpolargl\":[{\"marker\":{\"colorbar\":{\"outlinewidth\":0,\"ticks\":\"\"}},\"type\":\"scatterpolargl\"}],\"scatterternary\":[{\"marker\":{\"colorbar\":{\"outlinewidth\":0,\"ticks\":\"\"}},\"type\":\"scatterternary\"}],\"surface\":[{\"colorbar\":{\"outlinewidth\":0,\"ticks\":\"\"},\"colorscale\":[[0.0,\"#0d0887\"],[0.1111111111111111,\"#46039f\"],[0.2222222222222222,\"#7201a8\"],[0.3333333333333333,\"#9c179e\"],[0.4444444444444444,\"#bd3786\"],[0.5555555555555556,\"#d8576b\"],[0.6666666666666666,\"#ed7953\"],[0.7777777777777778,\"#fb9f3a\"],[0.8888888888888888,\"#fdca26\"],[1.0,\"#f0f921\"]],\"type\":\"surface\"}],\"table\":[{\"cells\":{\"fill\":{\"color\":\"#EBF0F8\"},\"line\":{\"color\":\"white\"}},\"header\":{\"fill\":{\"color\":\"#C8D4E3\"},\"line\":{\"color\":\"white\"}},\"type\":\"table\"}]},\"layout\":{\"annotationdefaults\":{\"arrowcolor\":\"#2a3f5f\",\"arrowhead\":0,\"arrowwidth\":1},\"autotypenumbers\":\"strict\",\"coloraxis\":{\"colorbar\":{\"outlinewidth\":0,\"ticks\":\"\"}},\"colorscale\":{\"diverging\":[[0,\"#8e0152\"],[0.1,\"#c51b7d\"],[0.2,\"#de77ae\"],[0.3,\"#f1b6da\"],[0.4,\"#fde0ef\"],[0.5,\"#f7f7f7\"],[0.6,\"#e6f5d0\"],[0.7,\"#b8e186\"],[0.8,\"#7fbc41\"],[0.9,\"#4d9221\"],[1,\"#276419\"]],\"sequential\":[[0.0,\"#0d0887\"],[0.1111111111111111,\"#46039f\"],[0.2222222222222222,\"#7201a8\"],[0.3333333333333333,\"#9c179e\"],[0.4444444444444444,\"#bd3786\"],[0.5555555555555556,\"#d8576b\"],[0.6666666666666666,\"#ed7953\"],[0.7777777777777778,\"#fb9f3a\"],[0.8888888888888888,\"#fdca26\"],[1.0,\"#f0f921\"]],\"sequentialminus\":[[0.0,\"#0d0887\"],[0.1111111111111111,\"#46039f\"],[0.2222222222222222,\"#7201a8\"],[0.3333333333333333,\"#9c179e\"],[0.4444444444444444,\"#bd3786\"],[0.5555555555555556,\"#d8576b\"],[0.6666666666666666,\"#ed7953\"],[0.7777777777777778,\"#fb9f3a\"],[0.8888888888888888,\"#fdca26\"],[1.0,\"#f0f921\"]]},\"colorway\":[\"#636efa\",\"#EF553B\",\"#00cc96\",\"#ab63fa\",\"#FFA15A\",\"#19d3f3\",\"#FF6692\",\"#B6E880\",\"#FF97FF\",\"#FECB52\"],\"font\":{\"color\":\"#2a3f5f\"},\"geo\":{\"bgcolor\":\"white\",\"lakecolor\":\"white\",\"landcolor\":\"#E5ECF6\",\"showlakes\":true,\"showland\":true,\"subunitcolor\":\"white\"},\"hoverlabel\":{\"align\":\"left\"},\"hovermode\":\"closest\",\"mapbox\":{\"style\":\"light\"},\"paper_bgcolor\":\"white\",\"plot_bgcolor\":\"#E5ECF6\",\"polar\":{\"angularaxis\":{\"gridcolor\":\"white\",\"linecolor\":\"white\",\"ticks\":\"\"},\"bgcolor\":\"#E5ECF6\",\"radialaxis\":{\"gridcolor\":\"white\",\"linecolor\":\"white\",\"ticks\":\"\"}},\"scene\":{\"xaxis\":{\"backgroundcolor\":\"#E5ECF6\",\"gridcolor\":\"white\",\"gridwidth\":2,\"linecolor\":\"white\",\"showbackground\":true,\"ticks\":\"\",\"zerolinecolor\":\"white\"},\"yaxis\":{\"backgroundcolor\":\"#E5ECF6\",\"gridcolor\":\"white\",\"gridwidth\":2,\"linecolor\":\"white\",\"showbackground\":true,\"ticks\":\"\",\"zerolinecolor\":\"white\"},\"zaxis\":{\"backgroundcolor\":\"#E5ECF6\",\"gridcolor\":\"white\",\"gridwidth\":2,\"linecolor\":\"white\",\"showbackground\":true,\"ticks\":\"\",\"zerolinecolor\":\"white\"}},\"shapedefaults\":{\"line\":{\"color\":\"#2a3f5f\"}},\"ternary\":{\"aaxis\":{\"gridcolor\":\"white\",\"linecolor\":\"white\",\"ticks\":\"\"},\"baxis\":{\"gridcolor\":\"white\",\"linecolor\":\"white\",\"ticks\":\"\"},\"bgcolor\":\"#E5ECF6\",\"caxis\":{\"gridcolor\":\"white\",\"linecolor\":\"white\",\"ticks\":\"\"}},\"title\":{\"x\":0.05},\"xaxis\":{\"automargin\":true,\"gridcolor\":\"white\",\"linecolor\":\"white\",\"ticks\":\"\",\"title\":{\"standoff\":15},\"zerolinecolor\":\"white\",\"zerolinewidth\":2},\"yaxis\":{\"automargin\":true,\"gridcolor\":\"white\",\"linecolor\":\"white\",\"ticks\":\"\",\"title\":{\"standoff\":15},\"zerolinecolor\":\"white\",\"zerolinewidth\":2}}},\"title\":{\"text\":\"Disasters heatmap from 1970 to 202?\"}},                        {\"responsive\": true}                    ).then(function(){\n",
       "                            \n",
       "var gd = document.getElementById('aa5b6554-71a8-4ac7-9561-788c3a730987');\n",
       "var x = new MutationObserver(function (mutations, observer) {{\n",
       "        var display = window.getComputedStyle(gd).display;\n",
       "        if (!display || display === 'none') {{\n",
       "            console.log([gd, 'removed!']);\n",
       "            Plotly.purge(gd);\n",
       "            observer.disconnect();\n",
       "        }}\n",
       "}});\n",
       "\n",
       "// Listen for the removal of the full notebook cells\n",
       "var notebookContainer = gd.closest('#notebook-container');\n",
       "if (notebookContainer) {{\n",
       "    x.observe(notebookContainer, {childList: true});\n",
       "}}\n",
       "\n",
       "// Listen for the clearing of the current output cell\n",
       "var outputEl = gd.closest('.output');\n",
       "if (outputEl) {{\n",
       "    x.observe(outputEl, {childList: true});\n",
       "}}\n",
       "\n",
       "                        })                };                });            </script>        </div>"
      ]
     },
     "metadata": {},
     "output_type": "display_data"
    }
   ],
   "source": [
    "if __name__ == \"__main__\":\n",
    "    \n",
    "    data1_2= pd.read_csv('DISASTERS/1900_2021_DISASTERS.csv')\n",
    "    data1= pd.read_csv('DISASTERS/1970-2021_DISASTERS.xlsx - emdat data.csv')\n",
    "    #yy=_2011(data1)\n",
    "    #ddict2011=disaster(yy)\n",
    "    #a2011,b2011= flood(ddict2011)\n",
    "    #a2012,b2012= flood(disaster(_2012(data1)))\n",
    "    #a2013,b2013 =flood(disaster(_2013(data1)))\n",
    "    #a2014,b2014= flood(disaster(_2014(data1)))\n",
    "    #a2015,b2015= flood(disaster(_2015(data1)))\n",
    "    \n",
    "    #print(a2014, b2014)\n",
    "    #plt.plot( convert_month(a2011), b2011, color='y', label='2011')\n",
    "    #plt.plot( convert_month(a2012), b2012, color='orange', label='2012')\n",
    "    #plt.plot( convert_month(a2013), b2013, color='r',label='2013')\n",
    "    #plt.plot( convert_month(a2014), b2014, color='g',label='2014')\n",
    "    #plt.plot( convert_month(a2015), b2015, color='b',label='2015')\n",
    "    #plt.title('Death caused by Flood')\n",
    "    #plt.ylabel(\"Casulities\")\n",
    "    #plt.legend()\n",
    "    #plt.show()\n",
    "    #p1 = plt.bar(a2011, b2011, bottom=0, color='b')\n",
    "    #p2 = plt.bar(a2012, b2012, bottom= a2011,color='r')\n",
    "\n",
    "    #plt.ylabel('Total Death caused by Flood')\n",
    "    #plt.title('Flood Distaster per Month')\n",
    "    #plt.xticks(ind, ('G1', 'G2', 'G3', 'G4', 'G5'))\n",
    "    #plt.legend((p1[0], p2[0]), ('2011', '2012'))\n",
    "    #plt.show()\n",
    "    \n",
    "    #fig = plt.figure()\n",
    "    #ax = fig.add_axes([0,0,1,1])\n",
    "    #fig = plt.figure()\n",
    "    #ax.set_title('Flood Distaster per Month')\n",
    "    #ax.bar(convert_month(a2012),b2012)\n",
    "    #plt.show()\n",
    "\n",
    "    #data1=data1.drop(columns=['Seq','Glide'])\n",
    "    #print(data2.head())\n",
    "    #print(data2['dt'])\n",
    "    IoY(data1)\n",
    "    DisaGeo(data1)\n",
    "    #print(data1.columns)"
   ]
  },
  {
   "cell_type": "code",
   "execution_count": 93,
   "id": "f3ec46df",
   "metadata": {},
   "outputs": [
    {
     "name": "stdout",
     "output_type": "stream",
     "text": [
      "Index(['Dis No', 'Year', 'Seq', 'Glide', 'Disaster Group', 'Disaster Subgroup',\n",
      "       'Disaster Type', 'Disaster Subtype', 'Disaster Subsubtype',\n",
      "       'Event Name', 'Country', 'ISO', 'Region', 'Continent', 'Location',\n",
      "       'Origin', 'Associated Dis', 'Associated Dis2', 'OFDA Response',\n",
      "       'Appeal', 'Declaration', 'Aid Contribution', 'Dis Mag Value',\n",
      "       'Dis Mag Scale', 'Latitude', 'Longitude', 'Local Time', 'River Basin',\n",
      "       'Start Year', 'Start Month', 'Start Day', 'End Year', 'End Month',\n",
      "       'End Day', 'Total Deaths', 'No Injured', 'No Affected', 'No Homeless',\n",
      "       'Total Affected', 'Reconstruction Costs ('000 US$)',\n",
      "       'Insured Damages ('000 US$)', 'Total Damages ('000 US$)', 'CPI',\n",
      "       'Adm Level', 'Admin1 Code', 'Admin2 Code', 'Geo Locations'],\n",
      "      dtype='object')\n",
      "0           Flood\n",
      "1           Storm\n",
      "2           Flood\n",
      "3           Storm\n",
      "4           Storm\n",
      "           ...   \n",
      "14639       Flood\n",
      "14640       Flood\n",
      "14641    Epidemic\n",
      "14642       Flood\n",
      "14643       Flood\n",
      "Name: Disaster Type, Length: 14644, dtype: object\n"
     ]
    }
   ],
   "source": [
    "print(data1.columns)\n",
    "print(data1['Disaster Type'])"
   ]
  },
  {
   "cell_type": "code",
   "execution_count": null,
   "id": "7ec4405d",
   "metadata": {},
   "outputs": [],
   "source": []
  },
  {
   "cell_type": "code",
   "execution_count": null,
   "id": "090b2d69",
   "metadata": {},
   "outputs": [],
   "source": []
  },
  {
   "cell_type": "code",
   "execution_count": 4,
   "id": "8e39a9ec",
   "metadata": {},
   "outputs": [
    {
     "data": {
      "image/png": "[encoded data removed]",
      "text/plain": [
       "<Figure size 432x288 with 1 Axes>"
      ]
     },
     "metadata": {},
     "output_type": "display_data"
    }
   ],
   "source": [
    "def pie(data):\n",
    "    x={}\n",
    "    for i in data['Disaster Type']:\n",
    "        try:\n",
    "            x[i]+=1\n",
    "        except:\n",
    "            x[i]=1\n",
    "    \n",
    "    explode = (0.1, 0,0,0,0,0,0)  # only \"explode\" the 2nd slice (i.e. 'Hogs')\n",
    "    tot= sum(x.values())\n",
    "    n={}\n",
    "    for i in x:\n",
    "        if x[i]/tot > .04:\n",
    "            n[i]=x[i]\n",
    "        else:\n",
    "            try:\n",
    "                n['other']+=x[i]\n",
    "            except:\n",
    "                n['other']=x[i]\n",
    "    fig1, ax1 = plt.subplots()\n",
    "    ax1.pie(n.values(), labels= n.keys(), explode=explode, autopct='%1.f%%',\n",
    "        shadow=True, startangle=90)\n",
    "    ax1.axis('equal')  # Equal aspect ratio ensures that pie is drawn as a circle.\n",
    "    plt.title('total disasters')\n",
    "    plt.show()\n",
    "pie(data1)"
   ]
  },
  {
   "cell_type": "code",
   "execution_count": 5,
   "id": "b4144204",
   "metadata": {},
   "outputs": [
    {
     "data": {
      "image/png": "[encoded data removed]",
      "text/plain": [
       "<Figure size 432x288 with 1 Axes>"
      ]
     },
     "metadata": {},
     "output_type": "display_data"
    }
   ],
   "source": [
    "def deathpie(data):\n",
    "    data['Total Deaths']=data['Total Deaths'].fillna(0)\n",
    "    a=zip(data['Disaster Type'])\n",
    "    b=zip(data['Total Deaths'])\n",
    "    dtlist=list(a)\n",
    "    tdlist=list(b)\n",
    "    l={}\n",
    "    \n",
    "    for i in range(len(dtlist)):\n",
    "        \n",
    "        if dtlist[i] in l:\n",
    "            l[dtlist[i]]+=tdlist[i]\n",
    "            \n",
    "        else:\n",
    "            l[dtlist[i]]=tdlist[i]\n",
    "    \n",
    "    #print(l)\n",
    "    explode=[0,0,0,0,0.1,0]\n",
    "    x={}\n",
    "    for i in l:\n",
    "        x[i]=sum(l[i])\n",
    "    \n",
    "    tot= sum(x.values())\n",
    "    n={}\n",
    "    for i in x:\n",
    "        if x[i]/tot > .06:\n",
    "            n[i]=x[i]\n",
    "        else:\n",
    "            try:\n",
    "                n['other']+=x[i]\n",
    "            except:\n",
    "                n['other']=x[i]\n",
    "    fig1, ax1 = plt.subplots()\n",
    "    ax1.pie(n.values(), labels= n.keys(),explode=explode, autopct='%1.f%%',\n",
    "        shadow=True, startangle=90)\n",
    "    ax1.axis('equal')  \n",
    "    plt.show()\n",
    "deathpie(data1)\n"
   ]
  },
  {
   "cell_type": "code",
   "execution_count": 6,
   "id": "ca3a861f",
   "metadata": {},
   "outputs": [
    {
     "data": {
      "application/vnd.plotly.v1+json": {
       "config": {
        "plotlyServerURL": "https://plot.ly"
       },
       "data": [
        {
         "coloraxis": "coloraxis",
         "geo": "geo",
         "hovertemplate": "locations=%{location}<br>color=%{z}<extra></extra>",
         "locations": [
          "AFG",
          "ALB",
          "DZA",
          "ASM",
          "ARG",
          "ARM",
          "AUS",
          "AUT",
          "AZE",
          "Azores Islands",
          "BGD",
          "BRB",
          "BEL",
          "BTN",
          "BOL",
          "BRA",
          "BGR",
          "BDI",
          "CHL",
          "CHN",
          "COL",
          "COM",
          "COD",
          "CRI",
          "HRV",
          "CUB",
          "CYP",
          "DMA",
          "DOM",
          "ECU",
          "EGY",
          "SLV",
          "FJI",
          "FRA",
          "GEO",
          "DEU",
          "Germany Fed Rep",
          "GRC",
          "GLP",
          "GUM",
          "GTM",
          "GIN",
          "HTI",
          "HND",
          "HUN",
          "ISL",
          "IND",
          "IDN",
          "IRN",
          "IRQ",
          "ITA",
          "JPN",
          "KAZ",
          "KEN",
          "KOR",
          "KGZ",
          "Macedonia (the former Yugoslav Republic of)",
          "MWI",
          "MYS",
          "MDV",
          "MTQ",
          "MEX",
          "MAR",
          "MOZ",
          "MMR",
          "NPL",
          "NLD",
          "NZL",
          "NIC",
          "PAK",
          "PAN",
          "PNG",
          "PER",
          "PHL",
          "POL",
          "PRI",
          "ROU",
          "RUS",
          "RWA",
          "LCA",
          "WSM",
          "SRB",
          "Serbia Montenegro",
          "SYC",
          "SVN",
          "SLB",
          "SOM",
          "ZAF",
          "Soviet Union",
          "ESP",
          "LKA",
          "SDN",
          "TWN",
          "TJK",
          "TZA",
          "THA",
          "TLS",
          "TON",
          "TTO",
          "TUR",
          "TKM",
          "UGA",
          "GBR",
          "USA",
          "UZB",
          "VUT",
          "VEN",
          "WLF",
          "YEM",
          "YEM",
          "Yugoslavia"
         ],
         "name": "",
         "type": "choropleth",
         "z": [
          31,
          8,
          15,
          1,
          4,
          1,
          2,
          1,
          5,
          2,
          9,
          1,
          2,
          3,
          2,
          2,
          5,
          1,
          14,
          158,
          21,
          1,
          4,
          13,
          3,
          2,
          1,
          1,
          1,
          16,
          3,
          8,
          2,
          2,
          4,
          2,
          1,
          26,
          1,
          1,
          14,
          1,
          3,
          3,
          1,
          3,
          22,
          113,
          97,
          2,
          33,
          45,
          1,
          2,
          2,
          9,
          1,
          3,
          2,
          1,
          1,
          32,
          1,
          1,
          6,
          6,
          1,
          7,
          6,
          32,
          4,
          17,
          38,
          32,
          1,
          2,
          4,
          10,
          2,
          1,
          1,
          1,
          1,
          1,
          2,
          8,
          1,
          4,
          17,
          2,
          1,
          2,
          10,
          12,
          6,
          4,
          1,
          2,
          1,
          56,
          1,
          5,
          2,
          30,
          2,
          8,
          5,
          1,
          1,
          1,
          6
         ]
        }
       ],
       "layout": {
        "coloraxis": {
         "colorbar": {
          "title": {
           "text": "color"
          }
         },
         "colorscale": [
          [
           0,
           "#0d0887"
          ],
          [
           0.1111111111111111,
           "#46039f"
          ],
          [
           0.2222222222222222,
           "#7201a8"
          ],
          [
           0.3333333333333333,
           "#9c179e"
          ],
          [
           0.4444444444444444,
           "#bd3786"
          ],
          [
           0.5555555555555556,
           "#d8576b"
          ],
          [
           0.6666666666666666,
           "#ed7953"
          ],
          [
           0.7777777777777778,
           "#fb9f3a"
          ],
          [
           0.8888888888888888,
           "#fdca26"
          ],
          [
           1,
           "#f0f921"
          ]
         ]
        },
        "geo": {
         "center": {},
         "domain": {
          "x": [
           0,
           1
          ],
          "y": [
           0,
           1
          ]
         },
         "scope": "world"
        },
        "legend": {
         "tracegroupgap": 0
        },
        "template": {
         "data": {
          "bar": [
           {
            "error_x": {
             "color": "#2a3f5f"
            },
            "error_y": {
             "color": "#2a3f5f"
            },
            "marker": {
             "line": {
              "color": "#E5ECF6",
              "width": 0.5
             },
             "pattern": {
              "fillmode": "overlay",
              "size": 10,
              "solidity": 0.2
             }
            },
            "type": "bar"
           }
          ],
          "barpolar": [
           {
            "marker": {
             "line": {
              "color": "#E5ECF6",
              "width": 0.5
             },
             "pattern": {
              "fillmode": "overlay",
              "size": 10,
              "solidity": 0.2
             }
            },
            "type": "barpolar"
           }
          ],
          "carpet": [
           {
            "aaxis": {
             "endlinecolor": "#2a3f5f",
             "gridcolor": "white",
             "linecolor": "white",
             "minorgridcolor": "white",
             "startlinecolor": "#2a3f5f"
            },
            "baxis": {
             "endlinecolor": "#2a3f5f",
             "gridcolor": "white",
             "linecolor": "white",
             "minorgridcolor": "white",
             "startlinecolor": "#2a3f5f"
            },
            "type": "carpet"
           }
          ],
          "choropleth": [
           {
            "colorbar": {
             "outlinewidth": 0,
             "ticks": ""
            },
            "type": "choropleth"
           }
          ],
          "contour": [
           {
            "colorbar": {
             "outlinewidth": 0,
             "ticks": ""
            },
            "colorscale": [
             [
              0,
              "#0d0887"
             ],
             [
              0.1111111111111111,
              "#46039f"
             ],
             [
              0.2222222222222222,
              "#7201a8"
             ],
             [
              0.3333333333333333,
              "#9c179e"
             ],
             [
              0.4444444444444444,
              "#bd3786"
             ],
             [
              0.5555555555555556,
              "#d8576b"
             ],
             [
              0.6666666666666666,
              "#ed7953"
             ],
             [
              0.7777777777777778,
              "#fb9f3a"
             ],
             [
              0.8888888888888888,
              "#fdca26"
             ],
             [
              1,
              "#f0f921"
             ]
            ],
            "type": "contour"
           }
          ],
          "contourcarpet": [
           {
            "colorbar": {
             "outlinewidth": 0,
             "ticks": ""
            },
            "type": "contourcarpet"
           }
          ],
          "heatmap": [
           {
            "colorbar": {
             "outlinewidth": 0,
             "ticks": ""
            },
            "colorscale": [
             [
              0,
              "#0d0887"
             ],
             [
              0.1111111111111111,
              "#46039f"
             ],
             [
              0.2222222222222222,
              "#7201a8"
             ],
             [
              0.3333333333333333,
              "#9c179e"
             ],
             [
              0.4444444444444444,
              "#bd3786"
             ],
             [
              0.5555555555555556,
              "#d8576b"
             ],
             [
              0.6666666666666666,
              "#ed7953"
             ],
             [
              0.7777777777777778,
              "#fb9f3a"
             ],
             [
              0.8888888888888888,
              "#fdca26"
             ],
             [
              1,
              "#f0f921"
             ]
            ],
            "type": "heatmap"
           }
          ],
          "heatmapgl": [
           {
            "colorbar": {
             "outlinewidth": 0,
             "ticks": ""
            },
            "colorscale": [
             [
              0,
              "#0d0887"
             ],
             [
              0.1111111111111111,
              "#46039f"
             ],
             [
              0.2222222222222222,
              "#7201a8"
             ],
             [
              0.3333333333333333,
              "#9c179e"
             ],
             [
              0.4444444444444444,
              "#bd3786"
             ],
             [
              0.5555555555555556,
              "#d8576b"
             ],
             [
              0.6666666666666666,
              "#ed7953"
             ],
             [
              0.7777777777777778,
              "#fb9f3a"
             ],
             [
              0.8888888888888888,
              "#fdca26"
             ],
             [
              1,
              "#f0f921"
             ]
            ],
            "type": "heatmapgl"
           }
          ],
          "histogram": [
           {
            "marker": {
             "pattern": {
              "fillmode": "overlay",
              "size": 10,
              "solidity": 0.2
             }
            },
            "type": "histogram"
           }
          ],
          "histogram2d": [
           {
            "colorbar": {
             "outlinewidth": 0,
             "ticks": ""
            },
            "colorscale": [
             [
              0,
              "#0d0887"
             ],
             [
              0.1111111111111111,
              "#46039f"
             ],
             [
              0.2222222222222222,
              "#7201a8"
             ],
             [
              0.3333333333333333,
              "#9c179e"
             ],
             [
              0.4444444444444444,
              "#bd3786"
             ],
             [
              0.5555555555555556,
              "#d8576b"
             ],
             [
              0.6666666666666666,
              "#ed7953"
             ],
             [
              0.7777777777777778,
              "#fb9f3a"
             ],
             [
              0.8888888888888888,
              "#fdca26"
             ],
             [
              1,
              "#f0f921"
             ]
            ],
            "type": "histogram2d"
           }
          ],
          "histogram2dcontour": [
           {
            "colorbar": {
             "outlinewidth": 0,
             "ticks": ""
            },
            "colorscale": [
             [
              0,
              "#0d0887"
             ],
             [
              0.1111111111111111,
              "#46039f"
             ],
             [
              0.2222222222222222,
              "#7201a8"
             ],
             [
              0.3333333333333333,
              "#9c179e"
             ],
             [
              0.4444444444444444,
              "#bd3786"
             ],
             [
              0.5555555555555556,
              "#d8576b"
             ],
             [
              0.6666666666666666,
              "#ed7953"
             ],
             [
              0.7777777777777778,
              "#fb9f3a"
             ],
             [
              0.8888888888888888,
              "#fdca26"
             ],
             [
              1,
              "#f0f921"
             ]
            ],
            "type": "histogram2dcontour"
           }
          ],
          "mesh3d": [
           {
            "colorbar": {
             "outlinewidth": 0,
             "ticks": ""
            },
            "type": "mesh3d"
           }
          ],
          "parcoords": [
           {
            "line": {
             "colorbar": {
              "outlinewidth": 0,
              "ticks": ""
             }
            },
            "type": "parcoords"
           }
          ],
          "pie": [
           {
            "automargin": true,
            "type": "pie"
           }
          ],
          "scatter": [
           {
            "marker": {
             "colorbar": {
              "outlinewidth": 0,
              "ticks": ""
             }
            },
            "type": "scatter"
           }
          ],
          "scatter3d": [
           {
            "line": {
             "colorbar": {
              "outlinewidth": 0,
              "ticks": ""
             }
            },
            "marker": {
             "colorbar": {
              "outlinewidth": 0,
              "ticks": ""
             }
            },
            "type": "scatter3d"
           }
          ],
          "scattercarpet": [
           {
            "marker": {
             "colorbar": {
              "outlinewidth": 0,
              "ticks": ""
             }
            },
            "type": "scattercarpet"
           }
          ],
          "scattergeo": [
           {
            "marker": {
             "colorbar": {
              "outlinewidth": 0,
              "ticks": ""
             }
            },
            "type": "scattergeo"
           }
          ],
          "scattergl": [
           {
            "marker": {
             "colorbar": {
              "outlinewidth": 0,
              "ticks": ""
             }
            },
            "type": "scattergl"
           }
          ],
          "scattermapbox": [
           {
            "marker": {
             "colorbar": {
              "outlinewidth": 0,
              "ticks": ""
             }
            },
            "type": "scattermapbox"
           }
          ],
          "scatterpolar": [
           {
            "marker": {
             "colorbar": {
              "outlinewidth": 0,
              "ticks": ""
             }
            },
            "type": "scatterpolar"
           }
          ],
          "scatterpolargl": [
           {
            "marker": {
             "colorbar": {
              "outlinewidth": 0,
              "ticks": ""
             }
            },
            "type": "scatterpolargl"
           }
          ],
          "scatterternary": [
           {
            "marker": {
             "colorbar": {
              "outlinewidth": 0,
              "ticks": ""
             }
            },
            "type": "scatterternary"
           }
          ],
          "surface": [
           {
            "colorbar": {
             "outlinewidth": 0,
             "ticks": ""
            },
            "colorscale": [
             [
              0,
              "#0d0887"
             ],
             [
              0.1111111111111111,
              "#46039f"
             ],
             [
              0.2222222222222222,
              "#7201a8"
             ],
             [
              0.3333333333333333,
              "#9c179e"
             ],
             [
              0.4444444444444444,
              "#bd3786"
             ],
             [
              0.5555555555555556,
              "#d8576b"
             ],
             [
              0.6666666666666666,
              "#ed7953"
             ],
             [
              0.7777777777777778,
              "#fb9f3a"
             ],
             [
              0.8888888888888888,
              "#fdca26"
             ],
             [
              1,
              "#f0f921"
             ]
            ],
            "type": "surface"
           }
          ],
          "table": [
           {
            "cells": {
             "fill": {
              "color": "#EBF0F8"
             },
             "line": {
              "color": "white"
             }
            },
            "header": {
             "fill": {
              "color": "#C8D4E3"
             },
             "line": {
              "color": "white"
             }
            },
            "type": "table"
           }
          ]
         },
         "layout": {
          "annotationdefaults": {
           "arrowcolor": "#2a3f5f",
           "arrowhead": 0,
           "arrowwidth": 1
          },
          "autotypenumbers": "strict",
          "coloraxis": {
           "colorbar": {
            "outlinewidth": 0,
            "ticks": ""
           }
          },
          "colorscale": {
           "diverging": [
            [
             0,
             "#8e0152"
            ],
            [
             0.1,
             "#c51b7d"
            ],
            [
             0.2,
             "#de77ae"
            ],
            [
             0.3,
             "#f1b6da"
            ],
            [
             0.4,
             "#fde0ef"
            ],
            [
             0.5,
             "#f7f7f7"
            ],
            [
             0.6,
             "#e6f5d0"
            ],
            [
             0.7,
             "#b8e186"
            ],
            [
             0.8,
             "#7fbc41"
            ],
            [
             0.9,
             "#4d9221"
            ],
            [
             1,
             "#276419"
            ]
           ],
           "sequential": [
            [
             0,
             "#0d0887"
            ],
            [
             0.1111111111111111,
             "#46039f"
            ],
            [
             0.2222222222222222,
             "#7201a8"
            ],
            [
             0.3333333333333333,
             "#9c179e"
            ],
            [
             0.4444444444444444,
             "#bd3786"
            ],
            [
             0.5555555555555556,
             "#d8576b"
            ],
            [
             0.6666666666666666,
             "#ed7953"
            ],
            [
             0.7777777777777778,
             "#fb9f3a"
            ],
            [
             0.8888888888888888,
             "#fdca26"
            ],
            [
             1,
             "#f0f921"
            ]
           ],
           "sequentialminus": [
            [
             0,
             "#0d0887"
            ],
            [
             0.1111111111111111,
             "#46039f"
            ],
            [
             0.2222222222222222,
             "#7201a8"
            ],
            [
             0.3333333333333333,
             "#9c179e"
            ],
            [
             0.4444444444444444,
             "#bd3786"
            ],
            [
             0.5555555555555556,
             "#d8576b"
            ],
            [
             0.6666666666666666,
             "#ed7953"
            ],
            [
             0.7777777777777778,
             "#fb9f3a"
            ],
            [
             0.8888888888888888,
             "#fdca26"
            ],
            [
             1,
             "#f0f921"
            ]
           ]
          },
          "colorway": [
           "#636efa",
           "#EF553B",
           "#00cc96",
           "#ab63fa",
           "#FFA15A",
           "#19d3f3",
           "#FF6692",
           "#B6E880",
           "#FF97FF",
           "#FECB52"
          ],
          "font": {
           "color": "#2a3f5f"
          },
          "geo": {
           "bgcolor": "white",
           "lakecolor": "white",
           "landcolor": "#E5ECF6",
           "showlakes": true,
           "showland": true,
           "subunitcolor": "white"
          },
          "hoverlabel": {
           "align": "left"
          },
          "hovermode": "closest",
          "mapbox": {
           "style": "light"
          },
          "paper_bgcolor": "white",
          "plot_bgcolor": "#E5ECF6",
          "polar": {
           "angularaxis": {
            "gridcolor": "white",
            "linecolor": "white",
            "ticks": ""
           },
           "bgcolor": "#E5ECF6",
           "radialaxis": {
            "gridcolor": "white",
            "linecolor": "white",
            "ticks": ""
           }
          },
          "scene": {
           "xaxis": {
            "backgroundcolor": "#E5ECF6",
            "gridcolor": "white",
            "gridwidth": 2,
            "linecolor": "white",
            "showbackground": true,
            "ticks": "",
            "zerolinecolor": "white"
           },
           "yaxis": {
            "backgroundcolor": "#E5ECF6",
            "gridcolor": "white",
            "gridwidth": 2,
            "linecolor": "white",
            "showbackground": true,
            "ticks": "",
            "zerolinecolor": "white"
           },
           "zaxis": {
            "backgroundcolor": "#E5ECF6",
            "gridcolor": "white",
            "gridwidth": 2,
            "linecolor": "white",
            "showbackground": true,
            "ticks": "",
            "zerolinecolor": "white"
           }
          },
          "shapedefaults": {
           "line": {
            "color": "#2a3f5f"
           }
          },
          "ternary": {
           "aaxis": {
            "gridcolor": "white",
            "linecolor": "white",
            "ticks": ""
           },
           "baxis": {
            "gridcolor": "white",
            "linecolor": "white",
            "ticks": ""
           },
           "bgcolor": "#E5ECF6",
           "caxis": {
            "gridcolor": "white",
            "linecolor": "white",
            "ticks": ""
           }
          },
          "title": {
           "x": 0.05
          },
          "xaxis": {
           "automargin": true,
           "gridcolor": "white",
           "linecolor": "white",
           "ticks": "",
           "title": {
            "standoff": 15
           },
           "zerolinecolor": "white",
           "zerolinewidth": 2
          },
          "yaxis": {
           "automargin": true,
           "gridcolor": "white",
           "linecolor": "white",
           "ticks": "",
           "title": {
            "standoff": 15
           },
           "zerolinecolor": "white",
           "zerolinewidth": 2
          }
         }
        },
        "title": {
         "text": "Disasters heatmap from 1970 to 202?"
        }
       }
      },
      "text/html": [
       "<div>                            <div id=\"70fa4461-bd19-42a0-8df7-b13f083125a0\" class=\"plotly-graph-div\" style=\"height:525px; width:100%;\"></div>            <script type=\"text/javascript\">                require([\"plotly\"], function(Plotly) {                    window.PLOTLYENV=window.PLOTLYENV || {};                                    if (document.getElementById(\"70fa4461-bd19-42a0-8df7-b13f083125a0\")) {                    Plotly.newPlot(                        \"70fa4461-bd19-42a0-8df7-b13f083125a0\",                        [{\"coloraxis\":\"coloraxis\",\"geo\":\"geo\",\"hovertemplate\":\"locations=%{location}<br>color=%{z}<extra></extra>\",\"locations\":[\"AFG\",\"ALB\",\"DZA\",\"ASM\",\"ARG\",\"ARM\",\"AUS\",\"AUT\",\"AZE\",\"Azores Islands\",\"BGD\",\"BRB\",\"BEL\",\"BTN\",\"BOL\",\"BRA\",\"BGR\",\"BDI\",\"CHL\",\"CHN\",\"COL\",\"COM\",\"COD\",\"CRI\",\"HRV\",\"CUB\",\"CYP\",\"DMA\",\"DOM\",\"ECU\",\"EGY\",\"SLV\",\"FJI\",\"FRA\",\"GEO\",\"DEU\",\"Germany Fed Rep\",\"GRC\",\"GLP\",\"GUM\",\"GTM\",\"GIN\",\"HTI\",\"HND\",\"HUN\",\"ISL\",\"IND\",\"IDN\",\"IRN\",\"IRQ\",\"ITA\",\"JPN\",\"KAZ\",\"KEN\",\"KOR\",\"KGZ\",\"Macedonia (the former Yugoslav Republic of)\",\"MWI\",\"MYS\",\"MDV\",\"MTQ\",\"MEX\",\"MAR\",\"MOZ\",\"MMR\",\"NPL\",\"NLD\",\"NZL\",\"NIC\",\"PAK\",\"PAN\",\"PNG\",\"PER\",\"PHL\",\"POL\",\"PRI\",\"ROU\",\"RUS\",\"RWA\",\"LCA\",\"WSM\",\"SRB\",\"Serbia Montenegro\",\"SYC\",\"SVN\",\"SLB\",\"SOM\",\"ZAF\",\"Soviet Union\",\"ESP\",\"LKA\",\"SDN\",\"TWN\",\"TJK\",\"TZA\",\"THA\",\"TLS\",\"TON\",\"TTO\",\"TUR\",\"TKM\",\"UGA\",\"GBR\",\"USA\",\"UZB\",\"VUT\",\"VEN\",\"WLF\",\"YEM\",\"YEM\",\"Yugoslavia\"],\"name\":\"\",\"type\":\"choropleth\",\"z\":[31,8,15,1,4,1,2,1,5,2,9,1,2,3,2,2,5,1,14,158,21,1,4,13,3,2,1,1,1,16,3,8,2,2,4,2,1,26,1,1,14,1,3,3,1,3,22,113,97,2,33,45,1,2,2,9,1,3,2,1,1,32,1,1,6,6,1,7,6,32,4,17,38,32,1,2,4,10,2,1,1,1,1,1,2,8,1,4,17,2,1,2,10,12,6,4,1,2,1,56,1,5,2,30,2,8,5,1,1,1,6]}],                        {\"coloraxis\":{\"colorbar\":{\"title\":{\"text\":\"color\"}},\"colorscale\":[[0.0,\"#0d0887\"],[0.1111111111111111,\"#46039f\"],[0.2222222222222222,\"#7201a8\"],[0.3333333333333333,\"#9c179e\"],[0.4444444444444444,\"#bd3786\"],[0.5555555555555556,\"#d8576b\"],[0.6666666666666666,\"#ed7953\"],[0.7777777777777778,\"#fb9f3a\"],[0.8888888888888888,\"#fdca26\"],[1.0,\"#f0f921\"]]},\"geo\":{\"center\":{},\"domain\":{\"x\":[0.0,1.0],\"y\":[0.0,1.0]},\"scope\":\"world\"},\"legend\":{\"tracegroupgap\":0},\"template\":{\"data\":{\"bar\":[{\"error_x\":{\"color\":\"#2a3f5f\"},\"error_y\":{\"color\":\"#2a3f5f\"},\"marker\":{\"line\":{\"color\":\"#E5ECF6\",\"width\":0.5},\"pattern\":{\"fillmode\":\"overlay\",\"size\":10,\"solidity\":0.2}},\"type\":\"bar\"}],\"barpolar\":[{\"marker\":{\"line\":{\"color\":\"#E5ECF6\",\"width\":0.5},\"pattern\":{\"fillmode\":\"overlay\",\"size\":10,\"solidity\":0.2}},\"type\":\"barpolar\"}],\"carpet\":[{\"aaxis\":{\"endlinecolor\":\"#2a3f5f\",\"gridcolor\":\"white\",\"linecolor\":\"white\",\"minorgridcolor\":\"white\",\"startlinecolor\":\"#2a3f5f\"},\"baxis\":{\"endlinecolor\":\"#2a3f5f\",\"gridcolor\":\"white\",\"linecolor\":\"white\",\"minorgridcolor\":\"white\",\"startlinecolor\":\"#2a3f5f\"},\"type\":\"carpet\"}],\"choropleth\":[{\"colorbar\":{\"outlinewidth\":0,\"ticks\":\"\"},\"type\":\"choropleth\"}],\"contour\":[{\"colorbar\":{\"outlinewidth\":0,\"ticks\":\"\"},\"colorscale\":[[0.0,\"#0d0887\"],[0.1111111111111111,\"#46039f\"],[0.2222222222222222,\"#7201a8\"],[0.3333333333333333,\"#9c179e\"],[0.4444444444444444,\"#bd3786\"],[0.5555555555555556,\"#d8576b\"],[0.6666666666666666,\"#ed7953\"],[0.7777777777777778,\"#fb9f3a\"],[0.8888888888888888,\"#fdca26\"],[1.0,\"#f0f921\"]],\"type\":\"contour\"}],\"contourcarpet\":[{\"colorbar\":{\"outlinewidth\":0,\"ticks\":\"\"},\"type\":\"contourcarpet\"}],\"heatmap\":[{\"colorbar\":{\"outlinewidth\":0,\"ticks\":\"\"},\"colorscale\":[[0.0,\"#0d0887\"],[0.1111111111111111,\"#46039f\"],[0.2222222222222222,\"#7201a8\"],[0.3333333333333333,\"#9c179e\"],[0.4444444444444444,\"#bd3786\"],[0.5555555555555556,\"#d8576b\"],[0.6666666666666666,\"#ed7953\"],[0.7777777777777778,\"#fb9f3a\"],[0.8888888888888888,\"#fdca26\"],[1.0,\"#f0f921\"]],\"type\":\"heatmap\"}],\"heatmapgl\":[{\"colorbar\":{\"outlinewidth\":0,\"ticks\":\"\"},\"colorscale\":[[0.0,\"#0d0887\"],[0.1111111111111111,\"#46039f\"],[0.2222222222222222,\"#7201a8\"],[0.3333333333333333,\"#9c179e\"],[0.4444444444444444,\"#bd3786\"],[0.5555555555555556,\"#d8576b\"],[0.6666666666666666,\"#ed7953\"],[0.7777777777777778,\"#fb9f3a\"],[0.8888888888888888,\"#fdca26\"],[1.0,\"#f0f921\"]],\"type\":\"heatmapgl\"}],\"histogram\":[{\"marker\":{\"pattern\":{\"fillmode\":\"overlay\",\"size\":10,\"solidity\":0.2}},\"type\":\"histogram\"}],\"histogram2d\":[{\"colorbar\":{\"outlinewidth\":0,\"ticks\":\"\"},\"colorscale\":[[0.0,\"#0d0887\"],[0.1111111111111111,\"#46039f\"],[0.2222222222222222,\"#7201a8\"],[0.3333333333333333,\"#9c179e\"],[0.4444444444444444,\"#bd3786\"],[0.5555555555555556,\"#d8576b\"],[0.6666666666666666,\"#ed7953\"],[0.7777777777777778,\"#fb9f3a\"],[0.8888888888888888,\"#fdca26\"],[1.0,\"#f0f921\"]],\"type\":\"histogram2d\"}],\"histogram2dcontour\":[{\"colorbar\":{\"outlinewidth\":0,\"ticks\":\"\"},\"colorscale\":[[0.0,\"#0d0887\"],[0.1111111111111111,\"#46039f\"],[0.2222222222222222,\"#7201a8\"],[0.3333333333333333,\"#9c179e\"],[0.4444444444444444,\"#bd3786\"],[0.5555555555555556,\"#d8576b\"],[0.6666666666666666,\"#ed7953\"],[0.7777777777777778,\"#fb9f3a\"],[0.8888888888888888,\"#fdca26\"],[1.0,\"#f0f921\"]],\"type\":\"histogram2dcontour\"}],\"mesh3d\":[{\"colorbar\":{\"outlinewidth\":0,\"ticks\":\"\"},\"type\":\"mesh3d\"}],\"parcoords\":[{\"line\":{\"colorbar\":{\"outlinewidth\":0,\"ticks\":\"\"}},\"type\":\"parcoords\"}],\"pie\":[{\"automargin\":true,\"type\":\"pie\"}],\"scatter\":[{\"marker\":{\"colorbar\":{\"outlinewidth\":0,\"ticks\":\"\"}},\"type\":\"scatter\"}],\"scatter3d\":[{\"line\":{\"colorbar\":{\"outlinewidth\":0,\"ticks\":\"\"}},\"marker\":{\"colorbar\":{\"outlinewidth\":0,\"ticks\":\"\"}},\"type\":\"scatter3d\"}],\"scattercarpet\":[{\"marker\":{\"colorbar\":{\"outlinewidth\":0,\"ticks\":\"\"}},\"type\":\"scattercarpet\"}],\"scattergeo\":[{\"marker\":{\"colorbar\":{\"outlinewidth\":0,\"ticks\":\"\"}},\"type\":\"scattergeo\"}],\"scattergl\":[{\"marker\":{\"colorbar\":{\"outlinewidth\":0,\"ticks\":\"\"}},\"type\":\"scattergl\"}],\"scattermapbox\":[{\"marker\":{\"colorbar\":{\"outlinewidth\":0,\"ticks\":\"\"}},\"type\":\"scattermapbox\"}],\"scatterpolar\":[{\"marker\":{\"colorbar\":{\"outlinewidth\":0,\"ticks\":\"\"}},\"type\":\"scatterpolar\"}],\"scatterpolargl\":[{\"marker\":{\"colorbar\":{\"outlinewidth\":0,\"ticks\":\"\"}},\"type\":\"scatterpolargl\"}],\"scatterternary\":[{\"marker\":{\"colorbar\":{\"outlinewidth\":0,\"ticks\":\"\"}},\"type\":\"scatterternary\"}],\"surface\":[{\"colorbar\":{\"outlinewidth\":0,\"ticks\":\"\"},\"colorscale\":[[0.0,\"#0d0887\"],[0.1111111111111111,\"#46039f\"],[0.2222222222222222,\"#7201a8\"],[0.3333333333333333,\"#9c179e\"],[0.4444444444444444,\"#bd3786\"],[0.5555555555555556,\"#d8576b\"],[0.6666666666666666,\"#ed7953\"],[0.7777777777777778,\"#fb9f3a\"],[0.8888888888888888,\"#fdca26\"],[1.0,\"#f0f921\"]],\"type\":\"surface\"}],\"table\":[{\"cells\":{\"fill\":{\"color\":\"#EBF0F8\"},\"line\":{\"color\":\"white\"}},\"header\":{\"fill\":{\"color\":\"#C8D4E3\"},\"line\":{\"color\":\"white\"}},\"type\":\"table\"}]},\"layout\":{\"annotationdefaults\":{\"arrowcolor\":\"#2a3f5f\",\"arrowhead\":0,\"arrowwidth\":1},\"autotypenumbers\":\"strict\",\"coloraxis\":{\"colorbar\":{\"outlinewidth\":0,\"ticks\":\"\"}},\"colorscale\":{\"diverging\":[[0,\"#8e0152\"],[0.1,\"#c51b7d\"],[0.2,\"#de77ae\"],[0.3,\"#f1b6da\"],[0.4,\"#fde0ef\"],[0.5,\"#f7f7f7\"],[0.6,\"#e6f5d0\"],[0.7,\"#b8e186\"],[0.8,\"#7fbc41\"],[0.9,\"#4d9221\"],[1,\"#276419\"]],\"sequential\":[[0.0,\"#0d0887\"],[0.1111111111111111,\"#46039f\"],[0.2222222222222222,\"#7201a8\"],[0.3333333333333333,\"#9c179e\"],[0.4444444444444444,\"#bd3786\"],[0.5555555555555556,\"#d8576b\"],[0.6666666666666666,\"#ed7953\"],[0.7777777777777778,\"#fb9f3a\"],[0.8888888888888888,\"#fdca26\"],[1.0,\"#f0f921\"]],\"sequentialminus\":[[0.0,\"#0d0887\"],[0.1111111111111111,\"#46039f\"],[0.2222222222222222,\"#7201a8\"],[0.3333333333333333,\"#9c179e\"],[0.4444444444444444,\"#bd3786\"],[0.5555555555555556,\"#d8576b\"],[0.6666666666666666,\"#ed7953\"],[0.7777777777777778,\"#fb9f3a\"],[0.8888888888888888,\"#fdca26\"],[1.0,\"#f0f921\"]]},\"colorway\":[\"#636efa\",\"#EF553B\",\"#00cc96\",\"#ab63fa\",\"#FFA15A\",\"#19d3f3\",\"#FF6692\",\"#B6E880\",\"#FF97FF\",\"#FECB52\"],\"font\":{\"color\":\"#2a3f5f\"},\"geo\":{\"bgcolor\":\"white\",\"lakecolor\":\"white\",\"landcolor\":\"#E5ECF6\",\"showlakes\":true,\"showland\":true,\"subunitcolor\":\"white\"},\"hoverlabel\":{\"align\":\"left\"},\"hovermode\":\"closest\",\"mapbox\":{\"style\":\"light\"},\"paper_bgcolor\":\"white\",\"plot_bgcolor\":\"#E5ECF6\",\"polar\":{\"angularaxis\":{\"gridcolor\":\"white\",\"linecolor\":\"white\",\"ticks\":\"\"},\"bgcolor\":\"#E5ECF6\",\"radialaxis\":{\"gridcolor\":\"white\",\"linecolor\":\"white\",\"ticks\":\"\"}},\"scene\":{\"xaxis\":{\"backgroundcolor\":\"#E5ECF6\",\"gridcolor\":\"white\",\"gridwidth\":2,\"linecolor\":\"white\",\"showbackground\":true,\"ticks\":\"\",\"zerolinecolor\":\"white\"},\"yaxis\":{\"backgroundcolor\":\"#E5ECF6\",\"gridcolor\":\"white\",\"gridwidth\":2,\"linecolor\":\"white\",\"showbackground\":true,\"ticks\":\"\",\"zerolinecolor\":\"white\"},\"zaxis\":{\"backgroundcolor\":\"#E5ECF6\",\"gridcolor\":\"white\",\"gridwidth\":2,\"linecolor\":\"white\",\"showbackground\":true,\"ticks\":\"\",\"zerolinecolor\":\"white\"}},\"shapedefaults\":{\"line\":{\"color\":\"#2a3f5f\"}},\"ternary\":{\"aaxis\":{\"gridcolor\":\"white\",\"linecolor\":\"white\",\"ticks\":\"\"},\"baxis\":{\"gridcolor\":\"white\",\"linecolor\":\"white\",\"ticks\":\"\"},\"bgcolor\":\"#E5ECF6\",\"caxis\":{\"gridcolor\":\"white\",\"linecolor\":\"white\",\"ticks\":\"\"}},\"title\":{\"x\":0.05},\"xaxis\":{\"automargin\":true,\"gridcolor\":\"white\",\"linecolor\":\"white\",\"ticks\":\"\",\"title\":{\"standoff\":15},\"zerolinecolor\":\"white\",\"zerolinewidth\":2},\"yaxis\":{\"automargin\":true,\"gridcolor\":\"white\",\"linecolor\":\"white\",\"ticks\":\"\",\"title\":{\"standoff\":15},\"zerolinecolor\":\"white\",\"zerolinewidth\":2}}},\"title\":{\"text\":\"Disasters heatmap from 1970 to 202?\"}},                        {\"responsive\": true}                    ).then(function(){\n",
       "                            \n",
       "var gd = document.getElementById('70fa4461-bd19-42a0-8df7-b13f083125a0');\n",
       "var x = new MutationObserver(function (mutations, observer) {{\n",
       "        var display = window.getComputedStyle(gd).display;\n",
       "        if (!display || display === 'none') {{\n",
       "            console.log([gd, 'removed!']);\n",
       "            Plotly.purge(gd);\n",
       "            observer.disconnect();\n",
       "        }}\n",
       "}});\n",
       "\n",
       "// Listen for the removal of the full notebook cells\n",
       "var notebookContainer = gd.closest('#notebook-container');\n",
       "if (notebookContainer) {{\n",
       "    x.observe(notebookContainer, {childList: true});\n",
       "}}\n",
       "\n",
       "// Listen for the clearing of the current output cell\n",
       "var outputEl = gd.closest('.output');\n",
       "if (outputEl) {{\n",
       "    x.observe(outputEl, {childList: true});\n",
       "}}\n",
       "\n",
       "                        })                };                });            </script>        </div>"
      ]
     },
     "metadata": {},
     "output_type": "display_data"
    }
   ],
   "source": [
    "\n",
    "DisaGeo(data1)"
   ]
  },
  {
   "cell_type": "code",
   "execution_count": 7,
   "id": "a964128e",
   "metadata": {},
   "outputs": [
    {
     "name": "stdout",
     "output_type": "stream",
     "text": [
      "{('Flood',): 3730152512.0, ('Storm',): 1143650537.0, ('Drought',): 2655002698.0, ('Landslide',): 6384326.0, ('Earthquake',): 170426782.0, ('Epidemic',): 26523217.0, ('Wildfire',): 17702597.0, ('Mass movement (dry)',): 21138.0, ('Extreme temperature ',): 101328450.0, ('Volcanic activity',): 9002663.0, ('Insect infestation',): 2802200.0, ('Impact',): 300000.0, ('Animal accident',): 5.0, ('Glacial lake outburst',): 0.0}\n"
     ]
    },
    {
     "data": {
      "image/png": "[encoded data removed]",
      "text/plain": [
       "<Figure size 432x288 with 1 Axes>"
      ]
     },
     "metadata": {},
     "output_type": "display_data"
    }
   ],
   "source": [
    "def affectedpie(data):\n",
    "    data['No Affected']=data['No Affected'].fillna(0)\n",
    "    a=zip(data['Disaster Type'])\n",
    "    b=zip(data['No Affected'])\n",
    "    dtlist=list(a)\n",
    "    tdlist=list(b)\n",
    "    l={}\n",
    "    explode=[0,]\n",
    "    for i in range(len(dtlist)):\n",
    "        \n",
    "        if dtlist[i] in l:\n",
    "            l[dtlist[i]]+=tdlist[i]\n",
    "            \n",
    "        else:\n",
    "            l[dtlist[i]]=tdlist[i]\n",
    "    \n",
    "    x={}\n",
    "    for i in l:\n",
    "        x[i]=sum(l[i])\n",
    "    \n",
    "    tot= sum(x.values())\n",
    "    print(x)\n",
    "    n={}\n",
    "    for i in x:\n",
    "        if x[i]/tot > .05:\n",
    "            n[i]=x[i]\n",
    "        else:\n",
    "            try:\n",
    "                n['other']+=x[i]\n",
    "            except:\n",
    "                n['other']=x[i]\n",
    "    \n",
    "    fig1, ax1 = plt.subplots()\n",
    "    ax1.pie(n.values(), labels= n.keys(), autopct='%1.f%%',\n",
    "        shadow=True, startangle=90)\n",
    "    ax1.axis('equal')  # Equal aspect ratio ensures that pie is drawn as a circle.\n",
    "\n",
    "    plt.show()\n",
    "affectedpie(data1)\n",
    "\n"
   ]
  },
  {
   "cell_type": "markdown",
   "id": "fadbcca1",
   "metadata": {},
   "source": [
    "x= no Affected of all dt\n",
    "y = Total Death all dt\n",
    "\n"
   ]
  },
  {
   "cell_type": "code",
   "execution_count": 8,
   "id": "7d2a3fd4",
   "metadata": {},
   "outputs": [
    {
     "name": "stdout",
     "output_type": "stream",
     "text": [
      "[('Flood',), ('Storm',), ('Drought',), ('Landslide',), ('Earthquake',), ('Epidemic',), ('Wildfire',), ('Mass movement (dry)',), ('Extreme temperature ',), ('Volcanic activity',), ('Insect infestation',), ('Impact',), ('Animal accident',), ('Glacial lake outburst',)]\n",
      "[12.70891549 13.61355838 13.45994072 10.61489205 14.09259972 12.46741716\n",
      "  7.99395755  7.75104512 12.15003654 10.20857969  0.          0.\n",
      "  2.48490665  5.52146092]\n",
      "[22.03971496 20.85749121 21.69971151 15.66935648 18.95381633 17.09353102\n",
      " 16.68922191  9.95882765 18.43387778 16.01303098 14.84591538 12.61153775\n",
      "  1.60943791  0.        ]\n"
     ]
    },
    {
     "data": {
      "image/png": "[encoded data removed]",
      "text/plain": [
       "<Figure size 432x288 with 1 Axes>"
      ]
     },
     "metadata": {
      "needs_background": "light"
     },
     "output_type": "display_data"
    }
   ],
   "source": [
    "import numpy as np\n",
    "def NA_TD(data):\n",
    "    def foo(data, string):\n",
    "        data[string]=data[string].fillna(0)\n",
    "        a=zip(data['Disaster Type'])\n",
    "        b=zip(data[string])\n",
    "        dtlist=list(a)\n",
    "        tdlist=list(b)\n",
    "        l={}\n",
    "    \n",
    "        for i in range(len(dtlist)):\n",
    "            \n",
    "            if dtlist[i] in l:\n",
    "                l[dtlist[i]]+=tdlist[i]\n",
    "            \n",
    "            else:\n",
    "                l[dtlist[i]]=tdlist[i]\n",
    "        \n",
    "        x={}\n",
    "        for i in l:\n",
    "            x[i]=sum(l[i])\n",
    "        \n",
    "        b={}\n",
    "        \n",
    "        for i in x:\n",
    "            if x[i]==0:\n",
    "                b[i]=1.0\n",
    "            else:\n",
    "                b[i]=x[i]\n",
    "        return b\n",
    "    text = list(foo(data, 'Total Deaths').keys())\n",
    "    xtd = np.log(list(foo(data, 'Total Deaths').values()))\n",
    "    yna = np.log(list(foo(data, 'No Affected').values()))\n",
    "    print(text)\n",
    "    print(xtd)\n",
    "    print(yna)\n",
    "    fig,ax = plt.subplots()\n",
    "    scatter = ax.scatter(xtd,yna)\n",
    "    for i, t in enumerate(text):\n",
    "        ax.annotate(t, (xtd[i],yna[i]))\n",
    "    plt.title('Number of Affected vs Total Death (Log Scale)')\n",
    "    plt.xlabel('Total Death')\n",
    "    plt.ylabel('Number of Affected')\n",
    "    plt.show()\n",
    "NA_TD(data1)"
   ]
  },
  {
   "cell_type": "code",
   "execution_count": 9,
   "id": "12ca291a",
   "metadata": {},
   "outputs": [
    {
     "data": {
      "image/png": "[encoded data removed]",
      "text/plain": [
       "<Figure size 432x288 with 1 Axes>"
      ]
     },
     "metadata": {
      "needs_background": "light"
     },
     "output_type": "display_data"
    }
   ],
   "source": [
    "def o_td(data):\n",
    "    dict1={}\n",
    "    for i in data['Disaster Type']:\n",
    "        try:\n",
    "            dict1[i]=dict1[i]+1\n",
    "        except:\n",
    "            dict1[i]=1\n",
    "    lists=sorted(dict1.items())\n",
    "    x,y= zip(*lists)\n",
    "    \n",
    "    def foo(data, string):\n",
    "        data[string]=data[string].fillna(0)\n",
    "        a=zip(data['Disaster Type'])\n",
    "        b=zip(data[string])\n",
    "        dtlist=list(a)\n",
    "        tdlist=list(b)\n",
    "        l={}\n",
    "    \n",
    "        for i in range(len(dtlist)):\n",
    "            \n",
    "            if dtlist[i] in l:\n",
    "                l[dtlist[i]]+=tdlist[i]\n",
    "            \n",
    "            else:\n",
    "                l[dtlist[i]]=tdlist[i]\n",
    "        \n",
    "        x={}\n",
    "        for i in l:\n",
    "            x[i]=sum(l[i])\n",
    "        \n",
    "        b={}\n",
    "        \n",
    "        for i in x:\n",
    "            if x[i]==0:\n",
    "                b[i]=1.0\n",
    "            else:\n",
    "                b[i]=x[i]\n",
    "        return b\n",
    "    \n",
    "    tdlist=foo(data, 'Total Deaths')\n",
    "    lists=sorted(tdlist.items())\n",
    "    x2,y2= zip(*lists)\n",
    "    #print(x2, x)\n",
    "    text = list(x)\n",
    "    o = np.log(y)\n",
    "    yna = np.log(y2)\n",
    "    fig,ax = plt.subplots()\n",
    "    scatter = ax.scatter(o, yna)\n",
    "    for i, t in enumerate(text):\n",
    "        ax.annotate(t, (o[i],yna[i]))\n",
    "    plt.xlabel('Number of disasters occured ')\n",
    "    plt.ylabel('Number of deaths ')\n",
    "    plt.title('Relation between occurence vs the deaths(Log Scale)')\n",
    "    plt.show()\n",
    "   \n",
    "    \n",
    "o_td(data1)"
   ]
  },
  {
   "cell_type": "code",
   "execution_count": 10,
   "id": "cedef05b",
   "metadata": {},
   "outputs": [
    {
     "data": {
      "image/png": "[encoded data removed]",
      "text/plain": [
       "<Figure size 432x288 with 1 Axes>"
      ]
     },
     "metadata": {
      "needs_background": "light"
     },
     "output_type": "display_data"
    }
   ],
   "source": [
    "def t5id(data):\n",
    "    #mask= data['Disaster Type']=='Earthquake' or 'Flood' or 'Storm' or 'Drought' or 'Epidemic'\n",
    "    #data=data[mask]   \n",
    "    def plotting(data, s):\n",
    "        mask=data['Disaster Type']== s\n",
    "        data=data[mask]\n",
    "        \n",
    "        dict1={}\n",
    "        for i in data['Year']:\n",
    "            try:\n",
    "                dict1[i]=dict1[i]+1\n",
    "            except:\n",
    "                dict1[i]=1\n",
    "        lists=sorted(dict1.items())\n",
    "        x,y= zip(*lists)\n",
    "        return x,y\n",
    "    eqx, eqy=plotting(data, 'Earthquake')\n",
    "    flx, fly= plotting(data, 'Flood')\n",
    "    stx, sty=plotting(data, 'Storm')\n",
    "    drx, dry=plotting(data, 'Drought')\n",
    "    epx, epy=plotting(data,'Epidemic')\n",
    "    \n",
    "    #print(eqx, flx, stx, drx, epx)\n",
    "    #print(sty)\n",
    "    fig= plt.figure()\n",
    "    \n",
    "    plt.plot( eqx, eqy, color='y', label='Earthquake')\n",
    "    plt.plot( flx, fly, color='orange', label='Flood')\n",
    "    plt.plot( stx, sty, color='r',label='Storm')\n",
    "    plt.plot( drx, dry, color='g',label='Drought')\n",
    "    plt.plot( epx, epy, color='b',label='Epidemic')\n",
    "    plt.title('Incidents per Year')\n",
    "    plt.legend()\n",
    "    plt.xlabel('Years')\n",
    "    plt.ylabel('Occurences')\n",
    "    plt.show()\n",
    "t5id(data1)  "
   ]
  },
  {
   "cell_type": "code",
   "execution_count": 11,
   "id": "e2eb586d",
   "metadata": {},
   "outputs": [
    {
     "name": "stdout",
     "output_type": "stream",
     "text": [
      "{1970: 387089.0, 1971: 18087.0, 1972: 20058.0, 1973: 129594.0, 1974: 68525.0, 1975: 26858.0, 1976: 280480.0, 1977: 22424.0, 1978: 38096.0, 1979: 7315.0, 1980: 25998.0, 1981: 116970.0, 1982: 14036.0, 1983: 461061.0, 1984: 15673.0, 1985: 60231.0, 1986: 10349.0, 1987: 21524.0, 1988: 57454.0, 1989: 12611.0, 1990: 53133.0, 1991: 189707.0, 1992: 18913.0, 1993: 21821.0, 1994: 15590.0, 1995: 27166.0, 1996: 31595.0, 1997: 30024.0, 1998: 62673.0, 1999: 76906.0, 2000: 16639.0, 2001: 39502.0, 2002: 21699.0, 2003: 113133.0, 2004: 244905.0, 2005: 94533.0, 2006: 28795.0, 2007: 22420.0, 2008: 242288.0, 2009: 16085.0, 2010: 329800.0, 2011: 34143.0, 2012: 11668.0, 2013: 22159.0, 2014: 20922.0, 2015: 24308.0, 2016: 10714.0, 2017: 11906.0, 2018: 15014.0, 2019: 22455.0, 2020: 15288.0, 2021: 9795.0}\n"
     ]
    },
    {
     "data": {
      "image/png": "[encoded data removed]",
      "text/plain": [
       "<Figure size 432x288 with 1 Axes>"
      ]
     },
     "metadata": {
      "needs_background": "light"
     },
     "output_type": "display_data"
    }
   ],
   "source": [
    "def td_year(data):\n",
    "    \n",
    "    d={}\n",
    "    for index, row in data.iterrows() :\n",
    "        try:\n",
    "            d[row['Year']]+= row['Total Deaths']\n",
    "        except:\n",
    "            d[row['Year']]=row['Total Deaths']\n",
    "    lists=sorted(d.items())\n",
    "    x,y= zip(*lists)\n",
    "    print(d)\n",
    "    fig= plt.figure()\n",
    "    plt.title('Total Death per Year')\n",
    "    plt.xlabel('Years')\n",
    "    plt.ylabel('Death')\n",
    "    plt.plot(x,y)\n",
    "    plt.show()  \n",
    "    \n",
    "td_year(data1)  "
   ]
  },
  {
   "cell_type": "code",
   "execution_count": 12,
   "id": "d56157a4",
   "metadata": {},
   "outputs": [
    {
     "data": {
      "image/png": "[encoded data removed]",
      "text/plain": [
       "<Figure size 432x288 with 1 Axes>"
      ]
     },
     "metadata": {
      "needs_background": "light"
     },
     "output_type": "display_data"
    },
    {
     "name": "stdout",
     "output_type": "stream",
     "text": [
      "{1980: 25998.0, 1981: 116970.0, 1982: 14036.0, 1983: 461061.0, 1984: 15673.0, 1985: 60231.0, 1986: 10349.0, 1987: 21524.0, 1988: 57454.0, 1989: 12611.0, 1990: 53133.0}\n"
     ]
    }
   ],
   "source": [
    "def td_t1year(data):\n",
    "    data=data.loc[(data['Year'] >= 1980) & (data['Year'] <= 1990)]\n",
    "    #mask= data['Year']== 1981 or 1982 or 1983 or 1984 or 1985\n",
    "    #data=data[mask]\n",
    "    #print(data)\n",
    "    d={}\n",
    "    for index, row in data.iterrows() :\n",
    "        try:\n",
    "            d[row['Year']]+= row['Total Deaths']\n",
    "        except:\n",
    "            d[row['Year']]=row['Total Deaths']\n",
    "    lists=sorted(d.items())\n",
    "    x,y= zip(*lists)\n",
    "    fig= plt.figure()\n",
    "    plt.title('Total Death per Year')\n",
    "    plt.xlabel('Years')\n",
    "    plt.ylabel('Death')\n",
    "    plt.plot(x,y)\n",
    "    plt.show()  \n",
    "    print(d)\n",
    "    \n",
    "td_t1year(data1)  "
   ]
  },
  {
   "cell_type": "code",
   "execution_count": 33,
   "id": "827a7d07",
   "metadata": {},
   "outputs": [
    {
     "data": {
      "image/png": "[encoded data removed]",
      "text/plain": [
       "<Figure size 432x288 with 1 Axes>"
      ]
     },
     "metadata": {
      "needs_background": "light"
     },
     "output_type": "display_data"
    }
   ],
   "source": [
    "import operator\n",
    "def tdn83(data):\n",
    "    #mask= data['Year']\n",
    "    #data=data[mask]   \n",
    "    \n",
    "    d={}\n",
    "    for index, row in data.iterrows() :\n",
    "        try:\n",
    "            d[row['Disaster Type']]+= row['Total Deaths']\n",
    "        except:\n",
    "            d[row['Disaster Type']]=row['Total Deaths']\n",
    "    lists=sorted(d.items(), key= operator.itemgetter(1))\n",
    "    x,y= zip(*lists)\n",
    "    \n",
    "    \n",
    "    fig=plt.figure()\n",
    "    \n",
    "    ax=fig.add_axes([0,0,1,1])\n",
    "    \n",
    "    ax.barh(x,y)\n",
    "    \n",
    "    ax.tick_params(axis='x', labelrotation=90)\n",
    "    yy=[0,1,2,3,4,5,6,7,8,9]\n",
    "    for i, v in enumerate(y):\n",
    "        ax.text(v + 3, i -.1 , str(v), color='black')\n",
    "    plt.title('Death by Natural Disasters ')\n",
    "    plt.show()\n",
    "tdn83(data1)"
   ]
  },
  {
   "cell_type": "code",
   "execution_count": 14,
   "id": "69c65523",
   "metadata": {},
   "outputs": [
    {
     "data": {
      "image/png": "[encoded data removed]",
      "text/plain": [
       "<Figure size 432x288 with 1 Axes>"
      ]
     },
     "metadata": {
      "needs_background": "light"
     },
     "output_type": "display_data"
    }
   ],
   "source": [
    "def dt_dis_year(data, disType):\n",
    "    mask = data['Disaster Type'] == disType\n",
    "    data = data[mask]\n",
    "    d={}\n",
    "    for index, row in data.iterrows() :\n",
    "        try:\n",
    "            d[row['Year']]+= row['Total Deaths']\n",
    "        except:\n",
    "            d[row['Year']]=row['Total Deaths']\n",
    "    lists=sorted(d.items())\n",
    "    x,y= zip(*lists)\n",
    "    fig= plt.figure()\n",
    "    plt.title('Total Deaths per Year')\n",
    "    plt.xlabel('Years')\n",
    "    plt.ylabel('Death')\n",
    "    plt.plot(x,y)\n",
    "    plt.show()  \n",
    "    \n",
    "dt_dis_year(data1, 'Extreme temperature ')  "
   ]
  },
  {
   "cell_type": "code",
   "execution_count": 108,
   "id": "f5485c09",
   "metadata": {},
   "outputs": [
    {
     "data": {
      "image/png": "[encoded data removed]",
      "text/plain": [
       "<Figure size 720x576 with 1 Axes>"
      ]
     },
     "metadata": {
      "needs_background": "light"
     },
     "output_type": "display_data"
    }
   ],
   "source": [
    "def bubble(data):\n",
    "    data=data[['Year', 'Disaster Type', 'Total Deaths']]\n",
    "\n",
    "\n",
    "    colors = np.random.rand(14547)\n",
    "\n",
    "    tempdata=data.loc[(data['Disaster Type']== 'Drought') | (data['Disaster Type']== 'Volcanic activity') ]\n",
    "\n",
    "    data=data.loc[~((data['Disaster Type'] == 'Animal accident') | (data['Disaster Type'] == 'Glacial lake outburst') \n",
    "            | (data['Disaster Type'] == 'Impact') | (data['Disaster Type'] == 'Insect infestation') \n",
    "             | (data['Disaster Type'] == 'Wildfire') | (data['Disaster Type'] == 'Mass movement (dry)')\n",
    "            | (data['Disaster Type'] == 'Fog') | (data['Disaster Type']== 'Volcanic activity') | (data['Disaster Type']== 'Drought') ) ] \n",
    "    groups = data.groupby(\"Disaster Type\")\n",
    "    tempdata = tempdata.groupby('Disaster Type')\n",
    "    fig,ax=plt.subplots()\n",
    "    #colors = plt.cm.Spectral(np.linspace(0, 1, 9))[::-1]\n",
    "    colors=['g', 'orange', 'brown', 'gold', 'darkblue', 'magenta', 'deepskyblue', 'purple']\n",
    "    i =0\n",
    "    for name, group in groups:\n",
    "        x=ax.scatter(group['Year'], group['Disaster Type'], s=group['Total Deaths'] * .002, alpha=0.7, color=colors[i])\n",
    "        i+=1\n",
    "    for name, group in tempdata:\n",
    "        ax.scatter(group['Year'], group['Disaster Type'], s=group['Total Deaths'] * .002, alpha=0.7, color=colors[i])\n",
    "        i+=1\n",
    "\n",
    "    ax.annotate('3M', ( 1929,'Drought'),ha='center' )\n",
    "    ax.annotate('1.25M', ( 1900,'Drought'), ha='center')\n",
    "    ax.annotate('1.5M', ( 1965, 5.75),ha='center', va='bottom' )\n",
    "    ax.annotate('1.2M', ( 1921,'Drought'), ha='center')\n",
    "    ax.annotate('3.7M', ( 1931,'Flood'), ha='center')\n",
    "    ax.annotate('2.0M', ( 1958,'Flood'), ha='center')\n",
    "    ax.annotate(\"1.3M\", \n",
    "            xy=(1906.5, 1.5), \n",
    "            xytext=(1906.5, 2),\n",
    "            arrowprops=dict(facecolor='blue',arrowstyle= 'simple'))\n",
    "    ax.annotate(\"1.5M\", \n",
    "            xy=(1909.5, .6), \n",
    "            xytext=(1909.5, 0.25),\n",
    "            arrowprops=dict(facecolor='blue',arrowstyle= 'simple'))\n",
    "\n",
    "    ax.annotate(\"2.0M\", \n",
    "            xy=(1920.5, 1.5), \n",
    "            xytext=(1920.5, 1.9),\n",
    "            arrowprops=dict(facecolor='blue',arrowstyle= 'simple'))\n",
    "    ax.annotate(\"2.5M\", \n",
    "            xy=(1917, .5), \n",
    "            xytext=(1917.5, 0.15),\n",
    "            arrowprops=dict(facecolor='blue', arrowstyle= 'simple'))\n",
    "    ax.annotate(\"1.5M\", \n",
    "            xy=(1941, 6.10), \n",
    "            xytext=(1938, 6.75),\n",
    "            arrowprops=dict(facecolor='blue', arrowstyle= 'simple'))\n",
    "    ax.annotate(\"1.9M\", \n",
    "            xy=(1945, 6.4), \n",
    "            xytext=(1946, 6.8),\n",
    "            arrowprops=dict(facecolor='blue', arrowstyle= 'simple'))\n",
    "\n",
    "    fig.set_size_inches(10,8)\n",
    "    plt.title('Total Deaths due to Natural Disasters from 1900 to 2021')\n",
    "    plt.show()\n",
    "bubble(data1_2)"
   ]
  },
  {
   "cell_type": "code",
   "execution_count": null,
   "id": "87d4859b",
   "metadata": {},
   "outputs": [],
   "source": []
  },
  {
   "cell_type": "code",
   "execution_count": null,
   "id": "af73c421",
   "metadata": {},
   "outputs": [],
   "source": []
  },
  {
   "cell_type": "code",
   "execution_count": null,
   "id": "dd5b81ae",
   "metadata": {},
   "outputs": [],
   "source": []
  },
  {
   "cell_type": "markdown",
   "id": "8c8826e4",
   "metadata": {},
   "source": []
  },
  {
   "cell_type": "code",
   "execution_count": null,
   "id": "ff098624",
   "metadata": {},
   "outputs": [],
   "source": []
  },
  {
   "cell_type": "code",
   "execution_count": null,
   "id": "8894d327",
   "metadata": {},
   "outputs": [],
   "source": []
  }
 ],
 "metadata": {
  "kernelspec": {
   "display_name": "Python 3",
   "language": "python",
   "name": "python3"
  },
  "language_info": {
   "codemirror_mode": {
    "name": "ipython",
    "version": 3
   },
   "file_extension": ".py",
   "mimetype": "text/x-python",
   "name": "python",
   "nbconvert_exporter": "python",
   "pygments_lexer": "ipython3",
   "version": "3.8.8"
  }
 },
 "nbformat": 4,
 "nbformat_minor": 5
}
